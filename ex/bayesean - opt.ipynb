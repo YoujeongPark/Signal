{
 "cells": [
  {
   "cell_type": "code",
   "execution_count": 86,
   "metadata": {},
   "outputs": [],
   "source": [
    "import lightgbm as lgb\n",
    "from bayes_opt import BayesianOptimization\n",
    "from sklearn.model_selection import cross_val_score\n",
    "from sklearn.model_selection import train_test_split\n",
    "from sklearn.datasets import load_boston\n",
    "from sklearn.metrics import accuracy_score,confusion_matrix\n",
    "import numpy as np"
   ]
  },
  {
   "cell_type": "code",
   "execution_count": 87,
   "metadata": {},
   "outputs": [],
   "source": [
    "import pandas as pd\n",
    "import numpy as np\n",
    "import os\n",
    "import matplotlib.pyplot as plt\n",
    "from sklearn.model_selection import train_test_split\n",
    "from sklearn.preprocessing import StandardScaler\n",
    "from sklearn.linear_model import LinearRegression\n",
    "from sklearn.model_selection import cross_val_score\n",
    "from sklearn.metrics import mean_squared_error\n",
    "from sklearn.linear_model import Ridge\n",
    "from sklearn.linear_model import Lasso\n",
    "from sklearn.linear_model import ElasticNet\n",
    "from sklearn.ensemble import GradientBoostingRegressor\n",
    "from sklearn.svm import SVR\n",
    "from sklearn.ensemble import RandomForestRegressor\n",
    "from xgboost import plot_importance\n",
    "import xgboost\n",
    "import lightgbm as lgb\n",
    "np.random.seed(0)\n",
    "from sklearn.model_selection import GridSearchCV\n"
   ]
  },
  {
   "cell_type": "code",
   "execution_count": 88,
   "metadata": {},
   "outputs": [],
   "source": [
    "def lgb_evaluate(n_estimators,max_depth,reg_alpha, reg_lambda  ):\n",
    "    reg=lgb.LGBMRegressor( n_estimators=100,\n",
    "                           random_state=42,\n",
    "                            seed=42,\n",
    "                          max_depth = 3,\n",
    "                          reg_alpha = 0,\n",
    "                          reg_lambda = 0\n",
    "                          \n",
    "                        \n",
    "                          \n",
    "                         )\n",
    "#   scores = cross_val_score(reg, train_x, train_y, cv=5, scoring='roc_auc')\n",
    "    scores = cross_val_score(reg, train_x, train_y, cv=5, scoring='neg_mean_squared_error')\n",
    "    return np.mean(scores)\n"
   ]
  },
  {
   "cell_type": "code",
   "execution_count": 89,
   "metadata": {},
   "outputs": [],
   "source": [
    "ii = 500\n",
    "nn = 1 \n",
    "dd = []\n",
    "n = str(1) "
   ]
  },
  {
   "cell_type": "code",
   "execution_count": 90,
   "metadata": {},
   "outputs": [],
   "source": [
    "def bayesOpt(train_x, train_y):\n",
    "    lgbBO = BayesianOptimization(lgb_evaluate, {\n",
    "                                                'n_estimators':  (5, 500),\n",
    "                                                'max_depth': (2, 90),\n",
    "                                                'reg_alpha': (0, 3),\n",
    "                                                'reg_lambda': (0, 3),\n",
    "                                 \n",
    "                                           \n",
    "                                            })\n",
    "    lgbBO.maximize(init_points=5, n_iter=50)\n",
    "    #print(lgbBO.res)\n",
    "    print(lgbBO.max)\n",
    "    result = lgbBO.max"
   ]
  },
  {
   "cell_type": "code",
   "execution_count": 91,
   "metadata": {},
   "outputs": [
    {
     "name": "stdout",
     "output_type": "stream",
     "text": [
      "(500, 132)\n"
     ]
    }
   ],
   "source": [
    "m = 'path'+n + '_membrane_SINT'\n",
    "b = 'path'+n + '_bending_SINT'\n",
    "\n",
    "\n",
    "# In[4]:\n",
    "\n",
    "\n",
    "#df = pd.read_csv('./path' + n + 'Data.csv')\n",
    "df = pd.read_csv('./Frequency_path' + n + 'Data.csv')\n",
    "#df = pd.read_csv('./Time_path' + n + 'Data.csv')\n",
    "\n",
    "# In[5]:\n",
    "\n",
    "\n",
    "df = df[df['dataLength'] <= 10000]\n",
    "\n",
    "\n",
    "df.drop(['dataLength'],axis=1)\n",
    "\n",
    "\n",
    "# # Membrne\n",
    "\n",
    "# In[6]:\n",
    "\n",
    "\n",
    "\n",
    "\n",
    "\n",
    "# In[7]:\n",
    "\n",
    "df = df[:ii]\n",
    "print(df.shape)\n",
    "membrane = df.copy()\n",
    "\n",
    "#membrane.drop(['path'+n + '_bending_SINT','dataLength'],axis=1)\n",
    "\n",
    "\n",
    "# In[8]:\n",
    "\n",
    "\n",
    "x_data = membrane.drop(['path'+n + '_bending_SINT','dataLength','path'+n + '_membrane_SINT'] , axis= 1)\n",
    "y_data = membrane['path'+n + '_membrane_SINT']"
   ]
  },
  {
   "cell_type": "code",
   "execution_count": 92,
   "metadata": {},
   "outputs": [],
   "source": [
    "# boston = load_boston()\n",
    "# X, y = boston.data, boston.target\n"
   ]
  },
  {
   "cell_type": "code",
   "execution_count": 93,
   "metadata": {},
   "outputs": [
    {
     "name": "stdout",
     "output_type": "stream",
     "text": [
      "|   iter    |  target   | max_depth | n_esti... | reg_alpha | reg_la... |\n",
      "-------------------------------------------------------------------------\n",
      "| \u001b[0m 1       \u001b[0m | \u001b[0m-8.444e-0\u001b[0m | \u001b[0m 7.398   \u001b[0m | \u001b[0m 477.4   \u001b[0m | \u001b[0m 1.232   \u001b[0m | \u001b[0m 1.188   \u001b[0m |\n",
      "| \u001b[0m 2       \u001b[0m | \u001b[0m-8.444e-0\u001b[0m | \u001b[0m 71.51   \u001b[0m | \u001b[0m 297.5   \u001b[0m | \u001b[0m 2.493   \u001b[0m | \u001b[0m 0.9233  \u001b[0m |\n",
      "| \u001b[0m 3       \u001b[0m | \u001b[0m-8.444e-0\u001b[0m | \u001b[0m 31.09   \u001b[0m | \u001b[0m 117.7   \u001b[0m | \u001b[0m 1.367   \u001b[0m | \u001b[0m 2.547   \u001b[0m |\n",
      "| \u001b[0m 4       \u001b[0m | \u001b[0m-8.444e-0\u001b[0m | \u001b[0m 51.71   \u001b[0m | \u001b[0m 71.92   \u001b[0m | \u001b[0m 1.154   \u001b[0m | \u001b[0m 1.373   \u001b[0m |\n",
      "| \u001b[0m 5       \u001b[0m | \u001b[0m-8.444e-0\u001b[0m | \u001b[0m 53.25   \u001b[0m | \u001b[0m 339.2   \u001b[0m | \u001b[0m 2.211   \u001b[0m | \u001b[0m 2.373   \u001b[0m |\n",
      "| \u001b[0m 6       \u001b[0m | \u001b[0m-8.444e-0\u001b[0m | \u001b[0m 2.192   \u001b[0m | \u001b[0m 7.86    \u001b[0m | \u001b[0m 2.591   \u001b[0m | \u001b[0m 2.814   \u001b[0m |\n",
      "| \u001b[0m 7       \u001b[0m | \u001b[0m-8.444e-0\u001b[0m | \u001b[0m 89.92   \u001b[0m | \u001b[0m 499.8   \u001b[0m | \u001b[0m 1.135   \u001b[0m | \u001b[0m 2.514   \u001b[0m |\n",
      "| \u001b[0m 8       \u001b[0m | \u001b[0m-8.444e-0\u001b[0m | \u001b[0m 89.84   \u001b[0m | \u001b[0m 6.098   \u001b[0m | \u001b[0m 1.77    \u001b[0m | \u001b[0m 2.703   \u001b[0m |\n",
      "| \u001b[0m 9       \u001b[0m | \u001b[0m-8.444e-0\u001b[0m | \u001b[0m 2.006   \u001b[0m | \u001b[0m 496.1   \u001b[0m | \u001b[0m 1.071   \u001b[0m | \u001b[0m 1.915   \u001b[0m |\n",
      "| \u001b[0m 10      \u001b[0m | \u001b[0m-8.444e-0\u001b[0m | \u001b[0m 89.96   \u001b[0m | \u001b[0m 492.1   \u001b[0m | \u001b[0m 2.34    \u001b[0m | \u001b[0m 1.897   \u001b[0m |\n",
      "| \u001b[0m 11      \u001b[0m | \u001b[0m-8.444e-0\u001b[0m | \u001b[0m 2.538   \u001b[0m | \u001b[0m 9.481   \u001b[0m | \u001b[0m 2.005   \u001b[0m | \u001b[0m 1.863   \u001b[0m |\n",
      "| \u001b[0m 12      \u001b[0m | \u001b[0m-8.444e-0\u001b[0m | \u001b[0m 89.67   \u001b[0m | \u001b[0m 5.374   \u001b[0m | \u001b[0m 0.3286  \u001b[0m | \u001b[0m 0.1236  \u001b[0m |\n",
      "| \u001b[0m 13      \u001b[0m | \u001b[0m-8.444e-0\u001b[0m | \u001b[0m 2.56    \u001b[0m | \u001b[0m 499.4   \u001b[0m | \u001b[0m 0.1471  \u001b[0m | \u001b[0m 1.731   \u001b[0m |\n",
      "| \u001b[0m 14      \u001b[0m | \u001b[0m-8.444e-0\u001b[0m | \u001b[0m 89.85   \u001b[0m | \u001b[0m 499.3   \u001b[0m | \u001b[0m 2.376   \u001b[0m | \u001b[0m 0.7537  \u001b[0m |\n",
      "| \u001b[0m 15      \u001b[0m | \u001b[0m-8.444e-0\u001b[0m | \u001b[0m 2.511   \u001b[0m | \u001b[0m 6.603   \u001b[0m | \u001b[0m 2.878   \u001b[0m | \u001b[0m 0.2567  \u001b[0m |\n",
      "| \u001b[0m 16      \u001b[0m | \u001b[0m-8.444e-0\u001b[0m | \u001b[0m 89.53   \u001b[0m | \u001b[0m 5.081   \u001b[0m | \u001b[0m 0.06064 \u001b[0m | \u001b[0m 1.102   \u001b[0m |\n",
      "| \u001b[0m 17      \u001b[0m | \u001b[0m-8.444e-0\u001b[0m | \u001b[0m 3.273   \u001b[0m | \u001b[0m 499.5   \u001b[0m | \u001b[0m 2.242   \u001b[0m | \u001b[0m 2.814   \u001b[0m |\n",
      "| \u001b[0m 18      \u001b[0m | \u001b[0m-8.444e-0\u001b[0m | \u001b[0m 89.92   \u001b[0m | \u001b[0m 498.2   \u001b[0m | \u001b[0m 1.94    \u001b[0m | \u001b[0m 2.087   \u001b[0m |\n",
      "| \u001b[0m 19      \u001b[0m | \u001b[0m-8.444e-0\u001b[0m | \u001b[0m 2.969   \u001b[0m | \u001b[0m 5.756   \u001b[0m | \u001b[0m 1.473   \u001b[0m | \u001b[0m 0.1974  \u001b[0m |\n",
      "| \u001b[0m 20      \u001b[0m | \u001b[0m-8.444e-0\u001b[0m | \u001b[0m 89.59   \u001b[0m | \u001b[0m 5.353   \u001b[0m | \u001b[0m 2.876   \u001b[0m | \u001b[0m 0.3078  \u001b[0m |\n",
      "| \u001b[0m 21      \u001b[0m | \u001b[0m-8.444e-0\u001b[0m | \u001b[0m 2.741   \u001b[0m | \u001b[0m 494.2   \u001b[0m | \u001b[0m 1.662   \u001b[0m | \u001b[0m 2.805   \u001b[0m |\n",
      "| \u001b[0m 22      \u001b[0m | \u001b[0m-8.444e-0\u001b[0m | \u001b[0m 89.61   \u001b[0m | \u001b[0m 493.6   \u001b[0m | \u001b[0m 1.853   \u001b[0m | \u001b[0m 1.397   \u001b[0m |\n",
      "| \u001b[0m 23      \u001b[0m | \u001b[0m-8.444e-0\u001b[0m | \u001b[0m 3.873   \u001b[0m | \u001b[0m 5.152   \u001b[0m | \u001b[0m 0.3627  \u001b[0m | \u001b[0m 2.406   \u001b[0m |\n",
      "| \u001b[0m 24      \u001b[0m | \u001b[0m-8.444e-0\u001b[0m | \u001b[0m 89.53   \u001b[0m | \u001b[0m 5.693   \u001b[0m | \u001b[0m 0.8202  \u001b[0m | \u001b[0m 2.793   \u001b[0m |\n",
      "| \u001b[0m 25      \u001b[0m | \u001b[0m-8.444e-0\u001b[0m | \u001b[0m 4.684   \u001b[0m | \u001b[0m 499.1   \u001b[0m | \u001b[0m 2.282   \u001b[0m | \u001b[0m 1.043   \u001b[0m |\n",
      "| \u001b[0m 26      \u001b[0m | \u001b[0m-8.444e-0\u001b[0m | \u001b[0m 2.212   \u001b[0m | \u001b[0m 5.52    \u001b[0m | \u001b[0m 2.277   \u001b[0m | \u001b[0m 0.06348 \u001b[0m |\n",
      "| \u001b[0m 27      \u001b[0m | \u001b[0m-8.444e-0\u001b[0m | \u001b[0m 87.7    \u001b[0m | \u001b[0m 499.8   \u001b[0m | \u001b[0m 0.252   \u001b[0m | \u001b[0m 2.508   \u001b[0m |\n",
      "| \u001b[0m 28      \u001b[0m | \u001b[0m-8.444e-0\u001b[0m | \u001b[0m 89.45   \u001b[0m | \u001b[0m 7.08    \u001b[0m | \u001b[0m 1.165   \u001b[0m | \u001b[0m 2.756   \u001b[0m |\n",
      "| \u001b[0m 29      \u001b[0m | \u001b[0m-8.444e-0\u001b[0m | \u001b[0m 2.03    \u001b[0m | \u001b[0m 495.7   \u001b[0m | \u001b[0m 1.267   \u001b[0m | \u001b[0m 2.312   \u001b[0m |\n",
      "| \u001b[0m 30      \u001b[0m | \u001b[0m-8.444e-0\u001b[0m | \u001b[0m 88.9    \u001b[0m | \u001b[0m 499.2   \u001b[0m | \u001b[0m 1.356   \u001b[0m | \u001b[0m 1.556   \u001b[0m |\n",
      "| \u001b[0m 31      \u001b[0m | \u001b[0m-8.444e-0\u001b[0m | \u001b[0m 89.49   \u001b[0m | \u001b[0m 5.179   \u001b[0m | \u001b[0m 1.442   \u001b[0m | \u001b[0m 1.786   \u001b[0m |\n",
      "| \u001b[0m 32      \u001b[0m | \u001b[0m-8.444e-0\u001b[0m | \u001b[0m 2.01    \u001b[0m | \u001b[0m 13.73   \u001b[0m | \u001b[0m 0.7081  \u001b[0m | \u001b[0m 1.701   \u001b[0m |\n",
      "| \u001b[0m 33      \u001b[0m | \u001b[0m-8.444e-0\u001b[0m | \u001b[0m 2.501   \u001b[0m | \u001b[0m 499.1   \u001b[0m | \u001b[0m 1.734   \u001b[0m | \u001b[0m 0.7054  \u001b[0m |\n",
      "| \u001b[0m 34      \u001b[0m | \u001b[0m-8.444e-0\u001b[0m | \u001b[0m 2.634   \u001b[0m | \u001b[0m 6.318   \u001b[0m | \u001b[0m 0.4912  \u001b[0m | \u001b[0m 0.5325  \u001b[0m |\n",
      "| \u001b[0m 35      \u001b[0m | \u001b[0m-8.444e-0\u001b[0m | \u001b[0m 89.49   \u001b[0m | \u001b[0m 496.1   \u001b[0m | \u001b[0m 2.793   \u001b[0m | \u001b[0m 1.015   \u001b[0m |\n",
      "| \u001b[0m 36      \u001b[0m | \u001b[0m-8.444e-0\u001b[0m | \u001b[0m 2.126   \u001b[0m | \u001b[0m 494.0   \u001b[0m | \u001b[0m 2.181   \u001b[0m | \u001b[0m 0.6269  \u001b[0m |\n",
      "| \u001b[0m 37      \u001b[0m | \u001b[0m-8.444e-0\u001b[0m | \u001b[0m 89.08   \u001b[0m | \u001b[0m 5.104   \u001b[0m | \u001b[0m 2.017   \u001b[0m | \u001b[0m 0.00217 \u001b[0m |\n",
      "| \u001b[0m 38      \u001b[0m | \u001b[0m-8.444e-0\u001b[0m | \u001b[0m 2.071   \u001b[0m | \u001b[0m 7.549   \u001b[0m | \u001b[0m 1.882   \u001b[0m | \u001b[0m 2.298   \u001b[0m |\n",
      "| \u001b[0m 39      \u001b[0m | \u001b[0m-8.444e-0\u001b[0m | \u001b[0m 89.25   \u001b[0m | \u001b[0m 494.9   \u001b[0m | \u001b[0m 2.207   \u001b[0m | \u001b[0m 2.667   \u001b[0m |\n",
      "| \u001b[0m 40      \u001b[0m | \u001b[0m-8.444e-0\u001b[0m | \u001b[0m 88.8    \u001b[0m | \u001b[0m 6.431   \u001b[0m | \u001b[0m 2.407   \u001b[0m | \u001b[0m 0.6538  \u001b[0m |\n",
      "| \u001b[0m 41      \u001b[0m | \u001b[0m-8.444e-0\u001b[0m | \u001b[0m 2.289   \u001b[0m | \u001b[0m 499.4   \u001b[0m | \u001b[0m 2.562   \u001b[0m | \u001b[0m 2.985   \u001b[0m |\n",
      "| \u001b[0m 42      \u001b[0m | \u001b[0m-8.444e-0\u001b[0m | \u001b[0m 2.612   \u001b[0m | \u001b[0m 5.085   \u001b[0m | \u001b[0m 1.002   \u001b[0m | \u001b[0m 2.902   \u001b[0m |\n",
      "| \u001b[0m 43      \u001b[0m | \u001b[0m-8.444e-0\u001b[0m | \u001b[0m 89.21   \u001b[0m | \u001b[0m 499.0   \u001b[0m | \u001b[0m 0.601   \u001b[0m | \u001b[0m 0.8162  \u001b[0m |\n",
      "| \u001b[0m 44      \u001b[0m | \u001b[0m-8.444e-0\u001b[0m | \u001b[0m 2.008   \u001b[0m | \u001b[0m 498.9   \u001b[0m | \u001b[0m 0.1761  \u001b[0m | \u001b[0m 1.653   \u001b[0m |\n",
      "| \u001b[0m 45      \u001b[0m | \u001b[0m-8.444e-0\u001b[0m | \u001b[0m 89.78   \u001b[0m | \u001b[0m 10.18   \u001b[0m | \u001b[0m 1.972   \u001b[0m | \u001b[0m 0.2415  \u001b[0m |\n",
      "| \u001b[0m 46      \u001b[0m | \u001b[0m-8.444e-0\u001b[0m | \u001b[0m 88.14   \u001b[0m | \u001b[0m 499.2   \u001b[0m | \u001b[0m 2.966   \u001b[0m | \u001b[0m 1.448   \u001b[0m |\n",
      "| \u001b[0m 47      \u001b[0m | \u001b[0m-8.444e-0\u001b[0m | \u001b[0m 89.9    \u001b[0m | \u001b[0m 6.25    \u001b[0m | \u001b[0m 1.228   \u001b[0m | \u001b[0m 0.9529  \u001b[0m |\n",
      "| \u001b[0m 48      \u001b[0m | \u001b[0m-8.444e-0\u001b[0m | \u001b[0m 2.14    \u001b[0m | \u001b[0m 499.1   \u001b[0m | \u001b[0m 0.3129  \u001b[0m | \u001b[0m 0.4042  \u001b[0m |\n",
      "| \u001b[0m 49      \u001b[0m | \u001b[0m-8.444e-0\u001b[0m | \u001b[0m 2.667   \u001b[0m | \u001b[0m 7.534   \u001b[0m | \u001b[0m 2.881   \u001b[0m | \u001b[0m 0.8903  \u001b[0m |\n",
      "| \u001b[0m 50      \u001b[0m | \u001b[0m-8.444e-0\u001b[0m | \u001b[0m 87.53   \u001b[0m | \u001b[0m 499.6   \u001b[0m | \u001b[0m 0.5907  \u001b[0m | \u001b[0m 2.151   \u001b[0m |\n",
      "| \u001b[0m 51      \u001b[0m | \u001b[0m-8.444e-0\u001b[0m | \u001b[0m 89.82   \u001b[0m | \u001b[0m 5.962   \u001b[0m | \u001b[0m 0.6379  \u001b[0m | \u001b[0m 2.759   \u001b[0m |\n",
      "| \u001b[0m 52      \u001b[0m | \u001b[0m-8.444e-0\u001b[0m | \u001b[0m 3.18    \u001b[0m | \u001b[0m 491.4   \u001b[0m | \u001b[0m 2.448   \u001b[0m | \u001b[0m 2.245   \u001b[0m |\n",
      "| \u001b[0m 53      \u001b[0m | \u001b[0m-8.444e-0\u001b[0m | \u001b[0m 3.47    \u001b[0m | \u001b[0m 9.631   \u001b[0m | \u001b[0m 0.09703 \u001b[0m | \u001b[0m 1.232   \u001b[0m |\n",
      "| \u001b[0m 54      \u001b[0m | \u001b[0m-8.444e-0\u001b[0m | \u001b[0m 89.33   \u001b[0m | \u001b[0m 7.723   \u001b[0m | \u001b[0m 2.834   \u001b[0m | \u001b[0m 1.08    \u001b[0m |\n",
      "| \u001b[0m 55      \u001b[0m | \u001b[0m-8.444e-0\u001b[0m | \u001b[0m 89.4    \u001b[0m | \u001b[0m 490.7   \u001b[0m | \u001b[0m 1.308   \u001b[0m | \u001b[0m 0.5509  \u001b[0m |\n",
      "=========================================================================\n",
      "{'target': -8.444257400068157e-09, 'params': {'max_depth': 7.3983119429412705, 'n_estimators': 477.35852560504964, 'reg_alpha': 1.2318483687517907, 'reg_lambda': 1.188159382700448}}\n"
     ]
    }
   ],
   "source": [
    "train_x, X_test, train_y, y_test = train_test_split(x_data, y_data, test_size=0.2)\n",
    "result = bayesOpt(train_x, train_y)"
   ]
  },
  {
   "cell_type": "code",
   "execution_count": 79,
   "metadata": {},
   "outputs": [],
   "source": [
    "#pram = {'maxDepth': 68.18209942198929, 'minChildWeight': 11.602707814353458, 'numLeaves': 12.606051427913329, 'scaleWeight': 2746.35784485966, 'subsample': 0.6066590457375349}"
   ]
  },
  {
   "cell_type": "code",
   "execution_count": 97,
   "metadata": {},
   "outputs": [],
   "source": [
    "pram = {'max_depth': 7.3983119429412705, 'n_estimators': 477.35852560504964, 'reg_alpha': 1.2318483687517907, 'reg_lambda': 1.188159382700448}"
   ]
  },
  {
   "cell_type": "code",
   "execution_count": 98,
   "metadata": {},
   "outputs": [],
   "source": [
    "lgbm = lgb.LGBMRegressor(\n",
    "    **pram\n",
    ")"
   ]
  },
  {
   "cell_type": "code",
   "execution_count": 99,
   "metadata": {},
   "outputs": [
    {
     "data": {
      "text/plain": [
       "nan"
      ]
     },
     "execution_count": 99,
     "metadata": {},
     "output_type": "execute_result"
    }
   ],
   "source": [
    "scores_lgbm = cross_val_score(lgbm, x_data, y_data, cv=10, n_jobs=-1, scoring = \"r2\")\n",
    "lgbm_result = scores_lgbm.mean()\n",
    "lgbm_result"
   ]
  },
  {
   "cell_type": "code",
   "execution_count": null,
   "metadata": {},
   "outputs": [],
   "source": []
  }
 ],
 "metadata": {
  "kernelspec": {
   "display_name": "py36_2",
   "language": "python",
   "name": "py36_2"
  },
  "language_info": {
   "codemirror_mode": {
    "name": "ipython",
    "version": 3
   },
   "file_extension": ".py",
   "mimetype": "text/x-python",
   "name": "python",
   "nbconvert_exporter": "python",
   "pygments_lexer": "ipython3",
   "version": "3.6.10"
  }
 },
 "nbformat": 4,
 "nbformat_minor": 2
}
