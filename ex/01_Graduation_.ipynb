{
 "cells": [
  {
   "cell_type": "code",
   "execution_count": 1,
   "metadata": {},
   "outputs": [],
   "source": [
    "import pandas as pd\n",
    "import numpy as np\n",
    "import os\n",
    "import matplotlib.pyplot as plt\n",
    "from sklearn.preprocessing import StandardScaler"
   ]
  },
  {
   "cell_type": "code",
   "execution_count": 2,
   "metadata": {},
   "outputs": [],
   "source": [
    "is_local = False\n",
    "if (is_local):\n",
    "        print(\"fail\")\n",
    "else:\n",
    "        PATH = \"../00_ML_data/01_Accel_Data_m_s/\""
   ]
  },
  {
   "cell_type": "code",
   "execution_count": 3,
   "metadata": {},
   "outputs": [
    {
     "data": {
      "text/plain": [
       "'파일 갯수는 6 입니다 '"
      ]
     },
     "execution_count": 3,
     "metadata": {},
     "output_type": "execute_result"
    }
   ],
   "source": [
    "file_len = len(os.listdir(PATH))\n",
    "f\"파일 갯수는 {file_len!r} 입니다 \""
   ]
  },
  {
   "cell_type": "code",
   "execution_count": 4,
   "metadata": {},
   "outputs": [
    {
     "data": {
      "text/plain": [
       "['Accel_2012',\n",
       " 'Accel_2013',\n",
       " 'Accel_2014',\n",
       " 'Accel_2015',\n",
       " 'Accel_2017',\n",
       " 'Accel_2018']"
      ]
     },
     "execution_count": 4,
     "metadata": {},
     "output_type": "execute_result"
    }
   ],
   "source": [
    "data_list = os.listdir(PATH)\n",
    "data_list"
   ]
  },
  {
   "cell_type": "code",
   "execution_count": 5,
   "metadata": {},
   "outputs": [
    {
     "name": "stdout",
     "output_type": "stream",
     "text": [
      "21563\n"
     ]
    }
   ],
   "source": [
    "dataNumber = [] \n",
    "for i in range(0,6):\n",
    "    dataList = os.listdir(PATH + data_list[i])\n",
    "    dataNumber.append(len(dataList))\n",
    "                    \n",
    "print(sum(dataNumber))"
   ]
  },
  {
   "cell_type": "markdown",
   "metadata": {},
   "source": [
    "# STFT 데이터 분석"
   ]
  },
  {
   "cell_type": "code",
   "execution_count": 6,
   "metadata": {},
   "outputs": [],
   "source": [
    "# for i in range(0,6):\n",
    "#     dataList = os.listdir(PATH + data_list[i])\n",
    "#     for j in range(0,len(dataList)):"
   ]
  },
  {
   "cell_type": "code",
   "execution_count": 7,
   "metadata": {},
   "outputs": [],
   "source": [
    "from scipy import signal\n",
    "from scipy.fft import fftshift\n",
    "import matplotlib.pyplot as plt"
   ]
  },
  {
   "cell_type": "code",
   "execution_count": 8,
   "metadata": {},
   "outputs": [],
   "source": [
    "dataName = []\n",
    "dataLength = []\n",
    "TimeFrequencyArray = []"
   ]
  },
  {
   "cell_type": "code",
   "execution_count": 23,
   "metadata": {},
   "outputs": [],
   "source": [
    "scaler = StandardScaler()\n",
    "\n",
    "for i in range(0,6):\n",
    "    dataList = os.listdir(PATH + data_list[i])\n",
    "    #print(dataList)\n",
    "    for j in range(0,20):\n",
    "    #for j in range(0,len(dataList)):\n",
    "        path = PATH + data_list[i] + \"/\" + dataList[j]\n",
    "        #print(path)\n",
    "        data_df = pd.read_csv(path, names=['time', '_x', '_y', '_z'],header=None, error_bad_lines=False )\n",
    "        \n",
    "        signals = data_df.copy()\n",
    "        signals = signals.drop('time',axis=1)\n",
    "        #print(signals.head(5))\n",
    "        \n",
    "        fs = 100\n",
    "        x =  signals['_x'][0:7200]\n",
    "        \n",
    "        #x = x * pow(10,10) # 일정값 곱하기 \n",
    "        \n",
    "        #len_x = len(signals['_x'])\n",
    "        f, t, Sxx = signal.spectrogram(x, fs, \n",
    "                               nperseg = 256,\n",
    "                              noverlap = 25)\n",
    "        \n",
    "        FrequencyArray = Sxx[:,0]\n",
    "        for k in range(1, Sxx.shape[1]):\n",
    "            FrequencyArray += Sxx[:,k]  \n",
    "        \n",
    "#         FrequencyArray = FrequencyArray.reshape(-1,1)\n",
    "#         scaler.fit(FrequencyArray)\n",
    "#         FrequencyArray = scaler.transform(FrequencyArray)\n",
    "   \n",
    "\n",
    "        TimeArray = Sxx[0]\n",
    "        for k in range(1, Sxx.shape[0]):\n",
    "            TimeArray += Sxx[k]\n",
    "        \n",
    "#         TimeArray = TimeArray.reshape(-1,1)\n",
    "#         scaler.fit(TimeArray)\n",
    "#         TimeArray = scaler.transform(TimeArray)\n",
    "        \n",
    "        \n",
    "        TFA = np.concatenate((TimeArray,FrequencyArray))\n",
    "#         print(TimeFrequencyArray)\n",
    "#         print(TimeFrequencyArray.shape)\n",
    "        \n",
    "        dataName.append(dataList[j])\n",
    "        dataLength.append(len(signals['_x']))\n",
    "        TimeFrequencyArray.append(TFA)\n",
    "        "
   ]
  },
  {
   "cell_type": "code",
   "execution_count": null,
   "metadata": {},
   "outputs": [],
   "source": [
    "# print(dataName)\n",
    "# print(dataLength)\n",
    "print(TimeFrequencyArray)"
   ]
  },
  {
   "cell_type": "code",
   "execution_count": null,
   "metadata": {},
   "outputs": [],
   "source": [
    "NPTimeFrequencyArray= np.array(TimeFrequencyArray)\n",
    "NPTimeFrequencyArray"
   ]
  },
  {
   "cell_type": "markdown",
   "metadata": {},
   "source": [
    "# dataFrame 넣기 "
   ]
  },
  {
   "cell_type": "code",
   "execution_count": null,
   "metadata": {},
   "outputs": [],
   "source": [
    "df = pd.DataFrame(NPTimeFrequencyArray)\n",
    "df.shape"
   ]
  },
  {
   "cell_type": "code",
   "execution_count": null,
   "metadata": {},
   "outputs": [],
   "source": [
    "len(dataName)"
   ]
  },
  {
   "cell_type": "code",
   "execution_count": null,
   "metadata": {},
   "outputs": [],
   "source": [
    "#df['dataName'] = [name.replace('.dat','') for name in dataName]\n",
    "df['dataLength'] = dataLength"
   ]
  },
  {
   "cell_type": "code",
   "execution_count": null,
   "metadata": {},
   "outputs": [],
   "source": [
    "print(df.shape)\n",
    "df.head(5)"
   ]
  },
  {
   "cell_type": "code",
   "execution_count": null,
   "metadata": {
    "scrolled": true
   },
   "outputs": [],
   "source": [
    "ydata = pd.read_csv('./02_Code_ver2/01_y_data_total.csv')\n",
    "#ydata = ydata[:180]\n",
    "ydata"
   ]
  },
  {
   "cell_type": "code",
   "execution_count": null,
   "metadata": {},
   "outputs": [],
   "source": [
    "# frames = [df, ydata]"
   ]
  },
  {
   "cell_type": "code",
   "execution_count": null,
   "metadata": {},
   "outputs": [],
   "source": [
    "# dfMerge = pd.concat(frames, axis = 1)\n",
    "# dfMerge"
   ]
  },
  {
   "cell_type": "code",
   "execution_count": null,
   "metadata": {},
   "outputs": [],
   "source": [
    "# dfMerge.drop(['fileName','dataName'],axis=1)"
   ]
  },
  {
   "cell_type": "code",
   "execution_count": null,
   "metadata": {},
   "outputs": [],
   "source": [
    "for i in range(1,15):\n",
    "    frames = [df, ydata['path'+str(i)+'_membrane_SINT'],ydata['path'+str(i)+'_bending_SINT']]\n",
    "    test = pd.concat(frames, axis = 1)\n",
    "    test.to_csv('path'+str(i)+'Data.csv',index=False)"
   ]
  },
  {
   "cell_type": "code",
   "execution_count": null,
   "metadata": {},
   "outputs": [],
   "source": []
  },
  {
   "cell_type": "code",
   "execution_count": null,
   "metadata": {},
   "outputs": [],
   "source": []
  }
 ],
 "metadata": {
  "kernelspec": {
   "display_name": "py36_2",
   "language": "python",
   "name": "py36_2"
  },
  "language_info": {
   "codemirror_mode": {
    "name": "ipython",
    "version": 3
   },
   "file_extension": ".py",
   "mimetype": "text/x-python",
   "name": "python",
   "nbconvert_exporter": "python",
   "pygments_lexer": "ipython3",
   "version": "3.6.10"
  }
 },
 "nbformat": 4,
 "nbformat_minor": 2
}
