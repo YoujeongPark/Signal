{
 "cells": [
  {
   "cell_type": "code",
   "execution_count": 1,
   "metadata": {},
   "outputs": [],
   "source": [
    "import pandas as pd\n",
    "import numpy as np\n",
    "import os\n",
    "import matplotlib.pyplot as plt"
   ]
  },
  {
   "cell_type": "code",
   "execution_count": 4,
   "metadata": {},
   "outputs": [],
   "source": [
    "is_local = False\n",
    "if (is_local):\n",
    "        print(\"fail\")\n",
    "else:\n",
    "        PATH = \"./input/earthquake_data/\""
   ]
  },
  {
   "cell_type": "code",
   "execution_count": 5,
   "metadata": {},
   "outputs": [
    {
     "data": {
      "text/plain": [
       "'파일 갯수는 7 입니다 '"
      ]
     },
     "execution_count": 5,
     "metadata": {},
     "output_type": "execute_result"
    }
   ],
   "source": [
    "file_len = len(os.listdir(PATH))\n",
    "f\"파일 갯수는 {file_len!r} 입니다 \""
   ]
  },
  {
   "cell_type": "code",
   "execution_count": 6,
   "metadata": {},
   "outputs": [
    {
     "data": {
      "text/plain": [
       "['3332325_0.dat',\n",
       " '3332325_15.dat',\n",
       " '3332325_30.dat',\n",
       " '3332325_45.dat',\n",
       " '3332325_60.dat',\n",
       " '3332325_75.dat',\n",
       " '3332325_90.dat']"
      ]
     },
     "execution_count": 6,
     "metadata": {},
     "output_type": "execute_result"
    }
   ],
   "source": [
    "data_list = os.listdir(PATH)\n",
    "data_list"
   ]
  },
  {
   "cell_type": "code",
   "execution_count": 20,
   "metadata": {},
   "outputs": [
    {
     "data": {
      "text/html": [
       "<div>\n",
       "<style scoped>\n",
       "    .dataframe tbody tr th:only-of-type {\n",
       "        vertical-align: middle;\n",
       "    }\n",
       "\n",
       "    .dataframe tbody tr th {\n",
       "        vertical-align: top;\n",
       "    }\n",
       "\n",
       "    .dataframe thead th {\n",
       "        text-align: right;\n",
       "    }\n",
       "</style>\n",
       "<table border=\"1\" class=\"dataframe\">\n",
       "  <thead>\n",
       "    <tr style=\"text-align: right;\">\n",
       "      <th></th>\n",
       "      <th>time</th>\n",
       "      <th>_x</th>\n",
       "      <th>_y</th>\n",
       "      <th>_z</th>\n",
       "    </tr>\n",
       "  </thead>\n",
       "  <tbody>\n",
       "    <tr>\n",
       "      <th>0</th>\n",
       "      <td>1.325347e+09</td>\n",
       "      <td>-3.197749e-08</td>\n",
       "      <td>1.670632e-08</td>\n",
       "      <td>-2.633049e-10</td>\n",
       "    </tr>\n",
       "    <tr>\n",
       "      <th>1</th>\n",
       "      <td>1.325347e+09</td>\n",
       "      <td>2.591352e-08</td>\n",
       "      <td>-1.209819e-08</td>\n",
       "      <td>1.488334e-09</td>\n",
       "    </tr>\n",
       "    <tr>\n",
       "      <th>2</th>\n",
       "      <td>1.325347e+09</td>\n",
       "      <td>-2.678963e-09</td>\n",
       "      <td>-1.119580e-08</td>\n",
       "      <td>-1.555271e-09</td>\n",
       "    </tr>\n",
       "    <tr>\n",
       "      <th>3</th>\n",
       "      <td>1.325347e+09</td>\n",
       "      <td>5.040576e-09</td>\n",
       "      <td>1.289168e-08</td>\n",
       "      <td>5.447114e-09</td>\n",
       "    </tr>\n",
       "    <tr>\n",
       "      <th>4</th>\n",
       "      <td>1.325347e+09</td>\n",
       "      <td>-7.528876e-09</td>\n",
       "      <td>-3.073363e-09</td>\n",
       "      <td>-1.633640e-08</td>\n",
       "    </tr>\n",
       "    <tr>\n",
       "      <th>...</th>\n",
       "      <td>...</td>\n",
       "      <td>...</td>\n",
       "      <td>...</td>\n",
       "      <td>...</td>\n",
       "    </tr>\n",
       "    <tr>\n",
       "      <th>8593</th>\n",
       "      <td>1.325347e+09</td>\n",
       "      <td>4.618772e-08</td>\n",
       "      <td>-1.682100e-08</td>\n",
       "      <td>-1.452421e-08</td>\n",
       "    </tr>\n",
       "    <tr>\n",
       "      <th>8594</th>\n",
       "      <td>1.325347e+09</td>\n",
       "      <td>-1.443892e-08</td>\n",
       "      <td>6.889643e-09</td>\n",
       "      <td>-1.352517e-08</td>\n",
       "    </tr>\n",
       "    <tr>\n",
       "      <th>8595</th>\n",
       "      <td>1.325347e+09</td>\n",
       "      <td>-2.227191e-08</td>\n",
       "      <td>6.121667e-09</td>\n",
       "      <td>6.827939e-09</td>\n",
       "    </tr>\n",
       "    <tr>\n",
       "      <th>8596</th>\n",
       "      <td>1.325347e+09</td>\n",
       "      <td>3.767037e-08</td>\n",
       "      <td>-4.057164e-08</td>\n",
       "      <td>6.319243e-09</td>\n",
       "    </tr>\n",
       "    <tr>\n",
       "      <th>8597</th>\n",
       "      <td>1.325347e+09</td>\n",
       "      <td>-1.442001e-08</td>\n",
       "      <td>1.171201e-08</td>\n",
       "      <td>8.008630e-09</td>\n",
       "    </tr>\n",
       "  </tbody>\n",
       "</table>\n",
       "<p>8598 rows × 4 columns</p>\n",
       "</div>"
      ],
      "text/plain": [
       "              time            _x            _y            _z\n",
       "0     1.325347e+09 -3.197749e-08  1.670632e-08 -2.633049e-10\n",
       "1     1.325347e+09  2.591352e-08 -1.209819e-08  1.488334e-09\n",
       "2     1.325347e+09 -2.678963e-09 -1.119580e-08 -1.555271e-09\n",
       "3     1.325347e+09  5.040576e-09  1.289168e-08  5.447114e-09\n",
       "4     1.325347e+09 -7.528876e-09 -3.073363e-09 -1.633640e-08\n",
       "...            ...           ...           ...           ...\n",
       "8593  1.325347e+09  4.618772e-08 -1.682100e-08 -1.452421e-08\n",
       "8594  1.325347e+09 -1.443892e-08  6.889643e-09 -1.352517e-08\n",
       "8595  1.325347e+09 -2.227191e-08  6.121667e-09  6.827939e-09\n",
       "8596  1.325347e+09  3.767037e-08 -4.057164e-08  6.319243e-09\n",
       "8597  1.325347e+09 -1.442001e-08  1.171201e-08  8.008630e-09\n",
       "\n",
       "[8598 rows x 4 columns]"
      ]
     },
     "execution_count": 20,
     "metadata": {},
     "output_type": "execute_result"
    }
   ],
   "source": [
    "path = PATH + data_list[0] \n",
    "path\n",
    "data_df = pd.read_csv(path, names=['time', '_x', '_y', '_z'],header=None, error_bad_lines=False )\n",
    "data_df"
   ]
  },
  {
   "cell_type": "code",
   "execution_count": 8,
   "metadata": {},
   "outputs": [],
   "source": [
    "signals = data_df.copy()\n",
    "signals = signals.drop('time',axis=1)"
   ]
  },
  {
   "cell_type": "code",
   "execution_count": 9,
   "metadata": {},
   "outputs": [],
   "source": [
    "np_signals = np.array(signals).T.reshape((1, 3, len(signals['_x'])))"
   ]
  },
  {
   "cell_type": "code",
   "execution_count": 13,
   "metadata": {},
   "outputs": [],
   "source": [
    "import librosa\n",
    "import librosa.display"
   ]
  },
  {
   "cell_type": "code",
   "execution_count": 14,
   "metadata": {},
   "outputs": [],
   "source": [
    "sr = 20 "
   ]
  },
  {
   "cell_type": "code",
   "execution_count": 15,
   "metadata": {},
   "outputs": [
    {
     "data": {
      "text/plain": [
       "(8598,)"
      ]
     },
     "execution_count": 15,
     "metadata": {},
     "output_type": "execute_result"
    }
   ],
   "source": [
    "np_signals[0, 0, :].shape"
   ]
  },
  {
   "cell_type": "code",
   "execution_count": 16,
   "metadata": {
    "scrolled": true
   },
   "outputs": [
    {
     "data": {
      "image/png": "[encoded data removed]",
      "text/plain": [
       "<Figure size 432x288 with 1 Axes>"
      ]
     },
     "metadata": {
      "needs_background": "light"
     },
     "output_type": "display_data"
    }
   ],
   "source": [
    "D = np.abs(librosa.stft(np_signals[0, 0, :]))\n",
    "D = D * pow(10,6)\n",
    "librosa.display.specshow(librosa.amplitude_to_db(D, ref=np.max), y_axis='linear', x_axis='time')\n",
    "plt.title('Dual Tone')\n",
    "#plt.ylim(0, 4000)\n",
    "plt.show()"
   ]
  },
  {
   "cell_type": "code",
   "execution_count": 21,
   "metadata": {},
   "outputs": [
    {
     "data": {
      "text/plain": [
       "(1025, 17)"
      ]
     },
     "execution_count": 21,
     "metadata": {},
     "output_type": "execute_result"
    }
   ],
   "source": [
    "D\n",
    "D.shape"
   ]
  },
  {
   "cell_type": "code",
   "execution_count": 22,
   "metadata": {},
   "outputs": [],
   "source": [
    "# y = D\n",
    "# D.shape\n",
    "# X = D\n",
    "# sample_rate= 20 "
   ]
  },
  {
   "cell_type": "code",
   "execution_count": 23,
   "metadata": {},
   "outputs": [],
   "source": [
    "X = np_signals[0, 0, :]\n",
    "sample_rate= 20 "
   ]
  },
  {
   "cell_type": "code",
   "execution_count": 26,
   "metadata": {},
   "outputs": [],
   "source": [
    "stft = np.abs(librosa.stft(X))\n",
    "mfccs = np.mean(librosa.feature.mfcc(y=X, sr=sample_rate, n_mfcc=40).T,axis=0)\n",
    "chroma = np.mean(librosa.feature.chroma_stft(S=stft, sr=sample_rate).T,axis=0)\n",
    "mel = np.mean(librosa.feature.melspectrogram(X, sr=sample_rate).T,axis=0)"
   ]
  },
  {
   "cell_type": "markdown",
   "metadata": {},
   "source": [
    "STFT를 사용하면 1D에서 2d로 바뀔 수 있다\n",
    "Prediction target\n",
    "For 2D-CNN, we trained following 3 labels at the same time.\n",
    "\n",
    "ttf: time to failure\n",
    "tsf: time since failure\n",
    "tqt: total time quake (ttf value at the beginning of quake)\n",
    "tsf and tqt feature is calculated from ttf information.\n",
    "I thought learning multiple label works as regularizing effect. But it was not so significant to the performance."
   ]
  },
  {
   "cell_type": "markdown",
   "metadata": {},
   "source": [
    "Hyper parameter tuning\n",
    "We used optuna for hyper parameter tuning."
   ]
  },
  {
   "cell_type": "code",
   "execution_count": 25,
   "metadata": {},
   "outputs": [
    {
     "ename": "ParameterError",
     "evalue": "Frequency band exceeds Nyquist. Reduce either fmin or n_bands.",
     "output_type": "error",
     "traceback": [
      "\u001b[1;31m---------------------------------------------------------------------------\u001b[0m",
      "\u001b[1;31mParameterError\u001b[0m                            Traceback (most recent call last)",
      "\u001b[1;32m<ipython-input-25-96c5322a4eef>\u001b[0m in \u001b[0;36m<module>\u001b[1;34m\u001b[0m\n\u001b[1;32m----> 1\u001b[1;33m \u001b[0mcontrast\u001b[0m \u001b[1;33m=\u001b[0m \u001b[0mnp\u001b[0m\u001b[1;33m.\u001b[0m\u001b[0mmean\u001b[0m\u001b[1;33m(\u001b[0m\u001b[0mlibrosa\u001b[0m\u001b[1;33m.\u001b[0m\u001b[0mfeature\u001b[0m\u001b[1;33m.\u001b[0m\u001b[0mspectral_contrast\u001b[0m\u001b[1;33m(\u001b[0m\u001b[0mS\u001b[0m\u001b[1;33m=\u001b[0m\u001b[0mstft\u001b[0m\u001b[1;33m,\u001b[0m \u001b[0msr\u001b[0m\u001b[1;33m=\u001b[0m\u001b[0msample_rate\u001b[0m\u001b[1;33m)\u001b[0m\u001b[1;33m.\u001b[0m\u001b[0mT\u001b[0m\u001b[1;33m,\u001b[0m\u001b[0maxis\u001b[0m\u001b[1;33m=\u001b[0m\u001b[1;36m0\u001b[0m\u001b[1;33m)\u001b[0m\u001b[1;33m\u001b[0m\u001b[1;33m\u001b[0m\u001b[0m\n\u001b[0m\u001b[0;32m      2\u001b[0m \u001b[0mtonnetz\u001b[0m \u001b[1;33m=\u001b[0m \u001b[0mnp\u001b[0m\u001b[1;33m.\u001b[0m\u001b[0mmean\u001b[0m\u001b[1;33m(\u001b[0m\u001b[0mlibrosa\u001b[0m\u001b[1;33m.\u001b[0m\u001b[0mfeature\u001b[0m\u001b[1;33m.\u001b[0m\u001b[0mtonnetz\u001b[0m\u001b[1;33m(\u001b[0m\u001b[0my\u001b[0m\u001b[1;33m=\u001b[0m\u001b[0mlibrosa\u001b[0m\u001b[1;33m.\u001b[0m\u001b[0meffects\u001b[0m\u001b[1;33m.\u001b[0m\u001b[0mharmonic\u001b[0m\u001b[1;33m(\u001b[0m\u001b[0mX\u001b[0m\u001b[1;33m)\u001b[0m\u001b[1;33m,\u001b[0m \u001b[0msr\u001b[0m\u001b[1;33m=\u001b[0m\u001b[0msample_rate\u001b[0m\u001b[1;33m)\u001b[0m\u001b[1;33m.\u001b[0m\u001b[0mT\u001b[0m\u001b[1;33m,\u001b[0m\u001b[0maxis\u001b[0m\u001b[1;33m=\u001b[0m\u001b[1;36m0\u001b[0m\u001b[1;33m)\u001b[0m\u001b[1;33m\u001b[0m\u001b[1;33m\u001b[0m\u001b[0m\n",
      "\u001b[1;32mD:\\99_file\\01_Anaconda\\envs\\py36\\lib\\site-packages\\librosa\\feature\\spectral.py\u001b[0m in \u001b[0;36mspectral_contrast\u001b[1;34m(y, sr, S, n_fft, hop_length, win_length, window, center, pad_mode, freq, fmin, n_bands, quantile, linear)\u001b[0m\n\u001b[0;32m    472\u001b[0m \u001b[1;33m\u001b[0m\u001b[0m\n\u001b[0;32m    473\u001b[0m     \u001b[1;32mif\u001b[0m \u001b[0mnp\u001b[0m\u001b[1;33m.\u001b[0m\u001b[0many\u001b[0m\u001b[1;33m(\u001b[0m\u001b[0mocta\u001b[0m\u001b[1;33m[\u001b[0m\u001b[1;33m:\u001b[0m\u001b[1;33m-\u001b[0m\u001b[1;36m1\u001b[0m\u001b[1;33m]\u001b[0m \u001b[1;33m>=\u001b[0m \u001b[1;36m0.5\u001b[0m \u001b[1;33m*\u001b[0m \u001b[0msr\u001b[0m\u001b[1;33m)\u001b[0m\u001b[1;33m:\u001b[0m\u001b[1;33m\u001b[0m\u001b[1;33m\u001b[0m\u001b[0m\n\u001b[1;32m--> 474\u001b[1;33m         raise ParameterError('Frequency band exceeds Nyquist. '\n\u001b[0m\u001b[0;32m    475\u001b[0m                              'Reduce either fmin or n_bands.')\n\u001b[0;32m    476\u001b[0m \u001b[1;33m\u001b[0m\u001b[0m\n",
      "\u001b[1;31mParameterError\u001b[0m: Frequency band exceeds Nyquist. Reduce either fmin or n_bands."
     ]
    }
   ],
   "source": [
    "contrast = np.mean(librosa.feature.spectral_contrast(S=stft, sr=sample_rate).T,axis=0)\n",
    "tonnetz = np.mean(librosa.feature.tonnetz(y=librosa.effects.harmonic(X), sr=sample_rate).T,axis=0)"
   ]
  }
 ],
 "metadata": {
  "kernelspec": {
   "display_name": "py36",
   "language": "python",
   "name": "py36"
  },
  "language_info": {
   "codemirror_mode": {
    "name": "ipython",
    "version": 3
   },
   "file_extension": ".py",
   "mimetype": "text/x-python",
   "name": "python",
   "nbconvert_exporter": "python",
   "pygments_lexer": "ipython3",
   "version": "3.6.10"
  }
 },
 "nbformat": 4,
 "nbformat_minor": 2
}
