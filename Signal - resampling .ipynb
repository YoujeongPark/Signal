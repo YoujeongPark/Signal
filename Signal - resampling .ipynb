{
 "cells": [
  {
   "cell_type": "code",
   "execution_count": 8,
   "metadata": {},
   "outputs": [],
   "source": [
    "from scipy import signal\n",
    "import numpy as np"
   ]
  },
  {
   "cell_type": "code",
   "execution_count": 9,
   "metadata": {},
   "outputs": [],
   "source": [
    "x = np.linspace(0, 10, 20, endpoint=False)\n",
    "y = np.cos(-x**2/6.0)\n",
    "f = signal.resample(y, 100)\n",
    "xnew = np.linspace(0, 10, 100, endpoint=False)"
   ]
  },
  {
   "cell_type": "code",
   "execution_count": 10,
   "metadata": {},
   "outputs": [
    {
     "data": {
      "image/png": "[encoded data removed]",
      "text/plain": [
       "<Figure size 432x288 with 1 Axes>"
      ]
     },
     "metadata": {
      "needs_background": "light"
     },
     "output_type": "display_data"
    }
   ],
   "source": [
    "import matplotlib.pyplot as plt\n",
    "plt.plot(x, y, 'go-', xnew, f, '.-', 10, y[0], 'ro')\n",
    "plt.legend(['data', 'resampled'], loc='best')\n",
    "plt.show()"
   ]
  },
  {
   "cell_type": "code",
   "execution_count": 11,
   "metadata": {},
   "outputs": [
    {
     "name": "stdout",
     "output_type": "stream",
     "text": [
      "20\n",
      "100\n"
     ]
    }
   ],
   "source": [
    "print(len(y))\n",
    "print(len(y))\n",
    "print(len(f))"
   ]
  },
  {
   "cell_type": "markdown",
   "metadata": {},
   "source": [
    "# Seismic data resampling"
   ]
  },
  {
   "cell_type": "code",
   "execution_count": 12,
   "metadata": {},
   "outputs": [],
   "source": [
    "import pandas as pd\n",
    "import numpy as np\n",
    "import os\n",
    "import matplotlib.pyplot as plt"
   ]
  },
  {
   "cell_type": "code",
   "execution_count": 14,
   "metadata": {},
   "outputs": [],
   "source": [
    "is_local = False\n",
    "if (is_local):\n",
    "        print(\"fail\")\n",
    "else:\n",
    "        PATH = \"./input/earthquake_data/\""
   ]
  },
  {
   "cell_type": "code",
   "execution_count": 17,
   "metadata": {},
   "outputs": [
    {
     "data": {
      "text/plain": [
       "['3333940_0.dat', '3334089_0.dat']"
      ]
     },
     "execution_count": 17,
     "metadata": {},
     "output_type": "execute_result"
    }
   ],
   "source": [
    "data_list = os.listdir(PATH)\n",
    "data_list"
   ]
  },
  {
   "cell_type": "code",
   "execution_count": 18,
   "metadata": {},
   "outputs": [],
   "source": [
    "path = PATH + data_list[1] \n",
    "path\n",
    "data_df = pd.read_csv(path, names=['time', '_x', '_y', '_z'],header=None, error_bad_lines=False )"
   ]
  },
  {
   "cell_type": "code",
   "execution_count": 19,
   "metadata": {},
   "outputs": [
    {
     "data": {
      "text/html": [
       "<div>\n",
       "<style scoped>\n",
       "    .dataframe tbody tr th:only-of-type {\n",
       "        vertical-align: middle;\n",
       "    }\n",
       "\n",
       "    .dataframe tbody tr th {\n",
       "        vertical-align: top;\n",
       "    }\n",
       "\n",
       "    .dataframe thead th {\n",
       "        text-align: right;\n",
       "    }\n",
       "</style>\n",
       "<table border=\"1\" class=\"dataframe\">\n",
       "  <thead>\n",
       "    <tr style=\"text-align: right;\">\n",
       "      <th></th>\n",
       "      <th>_x</th>\n",
       "      <th>_y</th>\n",
       "      <th>_z</th>\n",
       "    </tr>\n",
       "  </thead>\n",
       "  <tbody>\n",
       "    <tr>\n",
       "      <th>0</th>\n",
       "      <td>3.371620e-08</td>\n",
       "      <td>-7.718999e-08</td>\n",
       "      <td>3.106973e-09</td>\n",
       "    </tr>\n",
       "    <tr>\n",
       "      <th>1</th>\n",
       "      <td>3.202158e-08</td>\n",
       "      <td>-6.751933e-08</td>\n",
       "      <td>2.412234e-08</td>\n",
       "    </tr>\n",
       "    <tr>\n",
       "      <th>2</th>\n",
       "      <td>5.391698e-08</td>\n",
       "      <td>-4.778630e-08</td>\n",
       "      <td>2.974502e-08</td>\n",
       "    </tr>\n",
       "    <tr>\n",
       "      <th>3</th>\n",
       "      <td>4.776981e-08</td>\n",
       "      <td>-6.607367e-08</td>\n",
       "      <td>2.880523e-08</td>\n",
       "    </tr>\n",
       "    <tr>\n",
       "      <th>4</th>\n",
       "      <td>4.532062e-08</td>\n",
       "      <td>-5.082458e-08</td>\n",
       "      <td>3.259496e-08</td>\n",
       "    </tr>\n",
       "  </tbody>\n",
       "</table>\n",
       "</div>"
      ],
      "text/plain": [
       "             _x            _y            _z\n",
       "0  3.371620e-08 -7.718999e-08  3.106973e-09\n",
       "1  3.202158e-08 -6.751933e-08  2.412234e-08\n",
       "2  5.391698e-08 -4.778630e-08  2.974502e-08\n",
       "3  4.776981e-08 -6.607367e-08  2.880523e-08\n",
       "4  4.532062e-08 -5.082458e-08  3.259496e-08"
      ]
     },
     "execution_count": 19,
     "metadata": {},
     "output_type": "execute_result"
    }
   ],
   "source": [
    "signals = data_df.copy()\n",
    "signals = signals.drop('time',axis=1)\n",
    "signals.head(5)"
   ]
  },
  {
   "cell_type": "code",
   "execution_count": 44,
   "metadata": {},
   "outputs": [],
   "source": [
    "x = np.linspace(0, 360 ,7200, endpoint=False)\n",
    "fs = 20\n",
    "y =  signals['_x'][0:7200]\n",
    "xnew = np.linspace(0, 360, 100, endpoint=False)"
   ]
  },
  {
   "cell_type": "code",
   "execution_count": 50,
   "metadata": {},
   "outputs": [
    {
     "data": {
      "text/plain": [
       "array([ 3.61136341e-08,  4.78507776e-08, -8.60840257e-08, -2.54230549e-08,\n",
       "        5.25835931e-08,  6.20025288e-08, -6.94117519e-08, -4.82596574e-08,\n",
       "        2.81760093e-08,  5.66137885e-08, -1.43503436e-08,  1.68918832e-09,\n",
       "        1.36487332e-08, -7.25686192e-08, -1.51106952e-08,  7.92362180e-08,\n",
       "       -2.03433139e-08,  3.36744355e-08, -1.08107616e-08, -4.17500402e-08,\n",
       "       -6.98395749e-08,  9.68517403e-08,  2.98141171e-08,  2.31251575e-08,\n",
       "       -5.81735685e-08, -1.07960498e-07,  6.21574408e-08,  1.01567137e-07,\n",
       "       -9.31192356e-09, -6.01869245e-08,  2.11457006e-08, -6.75776544e-08,\n",
       "        2.11226151e-08,  4.05756028e-08,  2.82077318e-08, -1.31010567e-08,\n",
       "       -2.50572282e-08,  4.53017702e-09, -1.46373019e-08, -2.20468803e-08,\n",
       "        4.11611945e-08,  3.34700678e-08, -5.85018705e-08,  1.02117930e-08,\n",
       "        3.25179313e-08, -3.71980888e-08,  2.80651833e-10,  8.41480761e-09,\n",
       "        5.72519962e-08, -8.81817194e-08, -1.45125884e-08,  8.58732017e-08,\n",
       "       -1.70979493e-08, -2.97195567e-08,  1.99484992e-08,  4.16182239e-10,\n",
       "       -3.15990863e-08,  3.17354634e-08, -2.46254653e-08,  2.50916099e-08,\n",
       "        1.03523237e-08, -7.36385340e-08,  6.69835539e-08,  5.29412739e-09,\n",
       "       -1.57759330e-08,  9.05621095e-09, -7.42670748e-09, -4.64374200e-08,\n",
       "        4.41855124e-08,  2.98352259e-08, -3.98880075e-08, -2.50073914e-08,\n",
       "        5.65728034e-08, -8.07091906e-09, -6.42132997e-09, -3.07705032e-08,\n",
       "       -1.07144173e-08,  2.81785553e-08,  4.76105948e-08, -5.51328473e-08,\n",
       "        1.75136260e-08, -1.95831327e-08, -1.06783704e-08,  2.93177385e-08,\n",
       "        2.66165040e-08, -1.02243505e-08, -3.77619143e-08, -4.40890764e-09,\n",
       "        3.33520755e-09,  3.33929117e-08, -1.65756884e-08,  2.88811761e-09,\n",
       "       -6.43043360e-09,  4.32234527e-09, -1.25932158e-08,  1.20576921e-08,\n",
       "        5.48989529e-08, -8.14215954e-08,  1.49820357e-09,  3.95967768e-08])"
      ]
     },
     "execution_count": 50,
     "metadata": {},
     "output_type": "execute_result"
    }
   ],
   "source": [
    "f = signal.resample(y, 100)\n"
   ]
  },
  {
   "cell_type": "code",
   "execution_count": 52,
   "metadata": {},
   "outputs": [
    {
     "data": {
      "text/plain": [
       "0       3.371620e-08\n",
       "1       3.202158e-08\n",
       "2       5.391698e-08\n",
       "3       4.776981e-08\n",
       "4       4.532062e-08\n",
       "            ...     \n",
       "7195    9.722087e-08\n",
       "7196    9.338013e-08\n",
       "7197    1.140364e-07\n",
       "7198    9.697041e-08\n",
       "7199    6.107970e-08\n",
       "Name: _x, Length: 7200, dtype: float64"
      ]
     },
     "execution_count": 52,
     "metadata": {},
     "output_type": "execute_result"
    }
   ],
   "source": [
    "y"
   ]
  },
  {
   "cell_type": "code",
   "execution_count": 51,
   "metadata": {},
   "outputs": [
    {
     "data": {
      "text/plain": [
       "array([ 3.61136341e-08,  4.78507776e-08, -8.60840257e-08, -2.54230549e-08,\n",
       "        5.25835931e-08,  6.20025288e-08, -6.94117519e-08, -4.82596574e-08,\n",
       "        2.81760093e-08,  5.66137885e-08, -1.43503436e-08,  1.68918832e-09,\n",
       "        1.36487332e-08, -7.25686192e-08, -1.51106952e-08,  7.92362180e-08,\n",
       "       -2.03433139e-08,  3.36744355e-08, -1.08107616e-08, -4.17500402e-08,\n",
       "       -6.98395749e-08,  9.68517403e-08,  2.98141171e-08,  2.31251575e-08,\n",
       "       -5.81735685e-08, -1.07960498e-07,  6.21574408e-08,  1.01567137e-07,\n",
       "       -9.31192356e-09, -6.01869245e-08,  2.11457006e-08, -6.75776544e-08,\n",
       "        2.11226151e-08,  4.05756028e-08,  2.82077318e-08, -1.31010567e-08,\n",
       "       -2.50572282e-08,  4.53017702e-09, -1.46373019e-08, -2.20468803e-08,\n",
       "        4.11611945e-08,  3.34700678e-08, -5.85018705e-08,  1.02117930e-08,\n",
       "        3.25179313e-08, -3.71980888e-08,  2.80651833e-10,  8.41480761e-09,\n",
       "        5.72519962e-08, -8.81817194e-08, -1.45125884e-08,  8.58732017e-08,\n",
       "       -1.70979493e-08, -2.97195567e-08,  1.99484992e-08,  4.16182239e-10,\n",
       "       -3.15990863e-08,  3.17354634e-08, -2.46254653e-08,  2.50916099e-08,\n",
       "        1.03523237e-08, -7.36385340e-08,  6.69835539e-08,  5.29412739e-09,\n",
       "       -1.57759330e-08,  9.05621095e-09, -7.42670748e-09, -4.64374200e-08,\n",
       "        4.41855124e-08,  2.98352259e-08, -3.98880075e-08, -2.50073914e-08,\n",
       "        5.65728034e-08, -8.07091906e-09, -6.42132997e-09, -3.07705032e-08,\n",
       "       -1.07144173e-08,  2.81785553e-08,  4.76105948e-08, -5.51328473e-08,\n",
       "        1.75136260e-08, -1.95831327e-08, -1.06783704e-08,  2.93177385e-08,\n",
       "        2.66165040e-08, -1.02243505e-08, -3.77619143e-08, -4.40890764e-09,\n",
       "        3.33520755e-09,  3.33929117e-08, -1.65756884e-08,  2.88811761e-09,\n",
       "       -6.43043360e-09,  4.32234527e-09, -1.25932158e-08,  1.20576921e-08,\n",
       "        5.48989529e-08, -8.14215954e-08,  1.49820357e-09,  3.95967768e-08])"
      ]
     },
     "execution_count": 51,
     "metadata": {},
     "output_type": "execute_result"
    }
   ],
   "source": [
    "f"
   ]
  },
  {
   "cell_type": "code",
   "execution_count": 46,
   "metadata": {},
   "outputs": [
    {
     "name": "stdout",
     "output_type": "stream",
     "text": [
      "7200\n",
      "100\n"
     ]
    }
   ],
   "source": [
    "print(len(x))\n",
    "print(len(f))"
   ]
  },
  {
   "cell_type": "code",
   "execution_count": 49,
   "metadata": {},
   "outputs": [
    {
     "data": {
      "image/png": "[encoded data removed]",
      "text/plain": [
       "<Figure size 432x288 with 1 Axes>"
      ]
     },
     "metadata": {
      "needs_background": "light"
     },
     "output_type": "display_data"
    }
   ],
   "source": [
    "import matplotlib.pyplot as plt\n",
    "plt.plot(x, y, 'go-', xnew, f, '.-', 10, y[0], 'ro')\n",
    "plt.legend(['data', 'resampled'], loc='best')\n",
    "plt.show()"
   ]
  },
  {
   "cell_type": "code",
   "execution_count": null,
   "metadata": {},
   "outputs": [],
   "source": []
  }
 ],
 "metadata": {
  "kernelspec": {
   "display_name": "py36_2",
   "language": "python",
   "name": "py36_2"
  },
  "language_info": {
   "codemirror_mode": {
    "name": "ipython",
    "version": 3
   },
   "file_extension": ".py",
   "mimetype": "text/x-python",
   "name": "python",
   "nbconvert_exporter": "python",
   "pygments_lexer": "ipython3",
   "version": "3.6.10"
  }
 },
 "nbformat": 4,
 "nbformat_minor": 2
}
