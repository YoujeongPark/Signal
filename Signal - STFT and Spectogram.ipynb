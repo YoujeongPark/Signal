{
 "cells": [
  {
   "cell_type": "code",
   "execution_count": 1,
   "metadata": {},
   "outputs": [],
   "source": [
    "import pandas as pd\n",
    "import numpy as np\n",
    "import os\n",
    "import matplotlib.pyplot as plt"
   ]
  },
  {
   "cell_type": "code",
   "execution_count": 2,
   "metadata": {},
   "outputs": [],
   "source": [
    "is_local = False\n",
    "if (is_local):\n",
    "        print(\"fail\")\n",
    "else:\n",
    "        PATH = \"./input/earthquake_data/\""
   ]
  },
  {
   "cell_type": "code",
   "execution_count": 3,
   "metadata": {},
   "outputs": [
    {
     "data": {
      "text/plain": [
       "'파일 갯수는 2 입니다 '"
      ]
     },
     "execution_count": 3,
     "metadata": {},
     "output_type": "execute_result"
    }
   ],
   "source": [
    "file_len = len(os.listdir(PATH))\n",
    "f\"파일 갯수는 {file_len!r} 입니다 \""
   ]
  },
  {
   "cell_type": "code",
   "execution_count": 4,
   "metadata": {},
   "outputs": [
    {
     "data": {
      "text/plain": [
       "['3333940_0.dat', '3334089_0.dat']"
      ]
     },
     "execution_count": 4,
     "metadata": {},
     "output_type": "execute_result"
    }
   ],
   "source": [
    "data_list = os.listdir(PATH)\n",
    "data_list"
   ]
  },
  {
   "cell_type": "code",
   "execution_count": 5,
   "metadata": {},
   "outputs": [],
   "source": [
    "path = PATH + data_list[1] \n",
    "path\n",
    "data_df = pd.read_csv(path, names=['time', '_x', '_y', '_z'],header=None, error_bad_lines=False )"
   ]
  },
  {
   "cell_type": "code",
   "execution_count": 6,
   "metadata": {
    "scrolled": true
   },
   "outputs": [
    {
     "data": {
      "text/html": [
       "<div>\n",
       "<style scoped>\n",
       "    .dataframe tbody tr th:only-of-type {\n",
       "        vertical-align: middle;\n",
       "    }\n",
       "\n",
       "    .dataframe tbody tr th {\n",
       "        vertical-align: top;\n",
       "    }\n",
       "\n",
       "    .dataframe thead th {\n",
       "        text-align: right;\n",
       "    }\n",
       "</style>\n",
       "<table border=\"1\" class=\"dataframe\">\n",
       "  <thead>\n",
       "    <tr style=\"text-align: right;\">\n",
       "      <th></th>\n",
       "      <th>_x</th>\n",
       "      <th>_y</th>\n",
       "      <th>_z</th>\n",
       "    </tr>\n",
       "  </thead>\n",
       "  <tbody>\n",
       "    <tr>\n",
       "      <th>0</th>\n",
       "      <td>3.371620e-08</td>\n",
       "      <td>-7.718999e-08</td>\n",
       "      <td>3.106973e-09</td>\n",
       "    </tr>\n",
       "    <tr>\n",
       "      <th>1</th>\n",
       "      <td>3.202158e-08</td>\n",
       "      <td>-6.751933e-08</td>\n",
       "      <td>2.412234e-08</td>\n",
       "    </tr>\n",
       "    <tr>\n",
       "      <th>2</th>\n",
       "      <td>5.391698e-08</td>\n",
       "      <td>-4.778630e-08</td>\n",
       "      <td>2.974502e-08</td>\n",
       "    </tr>\n",
       "    <tr>\n",
       "      <th>3</th>\n",
       "      <td>4.776981e-08</td>\n",
       "      <td>-6.607367e-08</td>\n",
       "      <td>2.880523e-08</td>\n",
       "    </tr>\n",
       "    <tr>\n",
       "      <th>4</th>\n",
       "      <td>4.532062e-08</td>\n",
       "      <td>-5.082458e-08</td>\n",
       "      <td>3.259496e-08</td>\n",
       "    </tr>\n",
       "  </tbody>\n",
       "</table>\n",
       "</div>"
      ],
      "text/plain": [
       "             _x            _y            _z\n",
       "0  3.371620e-08 -7.718999e-08  3.106973e-09\n",
       "1  3.202158e-08 -6.751933e-08  2.412234e-08\n",
       "2  5.391698e-08 -4.778630e-08  2.974502e-08\n",
       "3  4.776981e-08 -6.607367e-08  2.880523e-08\n",
       "4  4.532062e-08 -5.082458e-08  3.259496e-08"
      ]
     },
     "execution_count": 6,
     "metadata": {},
     "output_type": "execute_result"
    }
   ],
   "source": [
    "signals = data_df.copy()\n",
    "signals = signals.drop('time',axis=1)\n",
    "signals.head(5)"
   ]
  },
  {
   "cell_type": "code",
   "execution_count": 14,
   "metadata": {},
   "outputs": [
    {
     "data": {
      "text/plain": [
       "(16138, 3)"
      ]
     },
     "execution_count": 14,
     "metadata": {},
     "output_type": "execute_result"
    }
   ],
   "source": [
    "signals.shape"
   ]
  },
  {
   "cell_type": "code",
   "execution_count": 15,
   "metadata": {},
   "outputs": [],
   "source": [
    "fs = 40\n",
    "x =  signals['_x'][0:7200]\n",
    "nperseg = 50\n",
    "noverlap = 25\n",
    "mode = complex"
   ]
  },
  {
   "cell_type": "code",
   "execution_count": 16,
   "metadata": {},
   "outputs": [
    {
     "data": {
      "text/plain": [
       "0       3.371620e-08\n",
       "1       3.202158e-08\n",
       "2       5.391698e-08\n",
       "3       4.776981e-08\n",
       "4       4.532062e-08\n",
       "            ...     \n",
       "7195    9.722087e-08\n",
       "7196    9.338013e-08\n",
       "7197    1.140364e-07\n",
       "7198    9.697041e-08\n",
       "7199    6.107970e-08\n",
       "Name: _x, Length: 7200, dtype: float64"
      ]
     },
     "execution_count": 16,
     "metadata": {},
     "output_type": "execute_result"
    }
   ],
   "source": [
    "x"
   ]
  },
  {
   "cell_type": "code",
   "execution_count": null,
   "metadata": {},
   "outputs": [],
   "source": []
  },
  {
   "cell_type": "code",
   "execution_count": 17,
   "metadata": {},
   "outputs": [],
   "source": [
    "from scipy import signal\n",
    "from scipy.fft import fftshift\n",
    "import matplotlib.pyplot as plt"
   ]
  },
  {
   "cell_type": "code",
   "execution_count": 18,
   "metadata": {},
   "outputs": [],
   "source": [
    "f, t, Sxx = signal.spectrogram(x, fs, \n",
    "                               nperseg = 50,\n",
    "                              noverlap = 25)\n",
    "#f, t, Sxx = signal.spectrogram(x, fs)"
   ]
  },
  {
   "cell_type": "code",
   "execution_count": 19,
   "metadata": {},
   "outputs": [
    {
     "data": {
      "text/plain": [
       "<function matplotlib.pyplot.show(*args, **kw)>"
      ]
     },
     "execution_count": 19,
     "metadata": {},
     "output_type": "execute_result"
    },
    {
     "data": {
      "image/png": "[encoded data removed]",
      "text/plain": [
       "<Figure size 432x288 with 1 Axes>"
      ]
     },
     "metadata": {
      "needs_background": "light"
     },
     "output_type": "display_data"
    }
   ],
   "source": [
    "plt.pcolormesh(t, f, Sxx)\n",
    "plt.show"
   ]
  },
  {
   "cell_type": "code",
   "execution_count": 20,
   "metadata": {},
   "outputs": [
    {
     "data": {
      "text/plain": [
       "(26, 287)"
      ]
     },
     "execution_count": 20,
     "metadata": {},
     "output_type": "execute_result"
    }
   ],
   "source": [
    "Sxx.shape"
   ]
  },
  {
   "cell_type": "code",
   "execution_count": 14,
   "metadata": {
    "scrolled": false
   },
   "outputs": [
    {
     "data": {
      "image/png": "[encoded data removed]",
      "text/plain": [
       "<Figure size 432x288 with 1 Axes>"
      ]
     },
     "metadata": {
      "needs_background": "light"
     },
     "output_type": "display_data"
    }
   ],
   "source": [
    "f, t, Zxx = signal.stft(x, fs, nperseg = 50,\n",
    "                              noverlap = 25)  \n",
    "plt.pcolormesh(t, f, np.abs(Zxx))  \n",
    "plt.title('STFT Magnitude')  \n",
    "plt.ylabel('Frequency \\[Hz\\]')  \n",
    "plt.xlabel('Time \\[sec\\]')  \n",
    "plt.show()"
   ]
  },
  {
   "cell_type": "markdown",
   "metadata": {},
   "source": [
    "## 히스토그램 기반 주파수 특징 추출"
   ]
  },
  {
   "cell_type": "code",
   "execution_count": 15,
   "metadata": {},
   "outputs": [
    {
     "name": "stdout",
     "output_type": "stream",
     "text": [
      "(287,)\n"
     ]
    }
   ],
   "source": [
    "TimeArray = Sxx[0]\n",
    "for i in range(1, Sxx.shape[0]):\n",
    "    TimeArray += Sxx[i]  \n",
    "print(TimeArray.shape)"
   ]
  },
  {
   "cell_type": "code",
   "execution_count": 16,
   "metadata": {},
   "outputs": [
    {
     "name": "stdout",
     "output_type": "stream",
     "text": [
      "(26,)\n"
     ]
    }
   ],
   "source": [
    "FrequencyArray = Sxx[:,0]\n",
    "for i in range(1, Sxx.shape[0]):\n",
    "    FrequencyArray += Sxx[:,i]  \n",
    "print(FrequencyArray.shape)"
   ]
  },
  {
   "cell_type": "code",
   "execution_count": 27,
   "metadata": {},
   "outputs": [
    {
     "data": {
      "text/plain": [
       "(array([24.,  0.,  0.,  0.,  0.,  0.,  1.,  0.,  0.,  1.]),\n",
       " array([1.27785817e-10, 4.55166613e-07, 9.10205439e-07, 1.36524427e-06,\n",
       "        1.82028309e-06, 2.27532192e-06, 2.73036075e-06, 3.18539957e-06,\n",
       "        3.64043840e-06, 4.09547723e-06, 4.55051605e-06]),\n",
       " <a list of 10 Patch objects>)"
      ]
     },
     "execution_count": 27,
     "metadata": {},
     "output_type": "execute_result"
    },
    {
     "data": {
      "image/png": "[encoded data removed]",
      "text/plain": [
       "<Figure size 432x288 with 1 Axes>"
      ]
     },
     "metadata": {
      "needs_background": "light"
     },
     "output_type": "display_data"
    }
   ],
   "source": [
    "plt.hist(FrequencyArray)"
   ]
  },
  {
   "cell_type": "code",
   "execution_count": 21,
   "metadata": {},
   "outputs": [
    {
     "name": "stdout",
     "output_type": "stream",
     "text": [
      "26\n",
      "26\n"
     ]
    }
   ],
   "source": [
    "print(len(f))\n",
    "print(len(FrequencyArray))"
   ]
  },
  {
   "cell_type": "code",
   "execution_count": 17,
   "metadata": {},
   "outputs": [
    {
     "name": "stdout",
     "output_type": "stream",
     "text": [
      "[4.55051605e-14 9.06749315e-16 7.73456992e-15 2.64199191e-15\n",
      " 5.13682460e-16 1.29497648e-15 4.83243016e-16 3.56211227e-16\n",
      " 3.45092666e-16 1.77077682e-15 1.89895464e-15 1.45630443e-15\n",
      " 6.33356315e-16 3.41851876e-15 4.87140110e-15 7.00840418e-16\n",
      " 9.27570834e-16 5.35332667e-16 1.32913577e-15 6.25432141e-16\n",
      " 1.15126833e-15 2.52203906e-15 2.76678503e-15 5.84477215e-16\n",
      " 2.14947667e-15 2.56036270e-15 1.26987255e-15 8.17260273e-16\n",
      " 1.03716337e-15 5.62102465e-16 8.83645060e-16 8.25346808e-16\n",
      " 1.74788711e-15 9.47159456e-16 2.74982406e-15 4.57575719e-15\n",
      " 6.91129922e-16 6.48007424e-16 4.70232922e-16 1.42856423e-15\n",
      " 2.99361278e-15 1.34277876e-15 5.71533427e-16 2.84047173e-15\n",
      " 1.01879138e-15 3.96174245e-16 6.26952442e-16 5.29870686e-16\n",
      " 4.10288528e-16 5.27935854e-16 4.42692315e-16 2.96336742e-16\n",
      " 5.90357359e-16 1.57297166e-15 7.27751420e-16 6.92812912e-16\n",
      " 9.41152192e-16 3.97358338e-16 1.56164808e-15 3.24017408e-15\n",
      " 6.11485738e-16 6.73272771e-16 1.07067603e-15 1.82264713e-15\n",
      " 3.79001328e-16 1.47060480e-15 6.68114680e-16 2.02554388e-15\n",
      " 3.73627563e-15 1.38517918e-15 5.98729523e-16 1.22299914e-15\n",
      " 2.10747106e-15 2.25456998e-15 1.93489994e-15 1.11036792e-15\n",
      " 5.06631852e-16 5.35661775e-16 7.70177736e-16 1.51137706e-15\n",
      " 1.91036127e-15 1.07695532e-15 4.91909245e-16 2.22801755e-15\n",
      " 1.61767449e-15 4.98890449e-16 1.90207493e-15 1.15070859e-15\n",
      " 3.55034123e-16 4.91169161e-16 7.75248257e-16 1.15643086e-15\n",
      " 7.99847596e-16 3.12860690e-16 6.19996839e-16 4.68357130e-16\n",
      " 2.70297127e-16 2.54516388e-16 3.42384241e-16 7.77927700e-16\n",
      " 5.09181989e-16 4.70777596e-16 3.17046581e-16 8.04247605e-16\n",
      " 4.38488958e-16 4.24304127e-16 2.87615128e-16 4.07421742e-16\n",
      " 8.74900945e-16 6.32433106e-16 1.06745427e-15 9.68398054e-16\n",
      " 1.26998523e-15 2.58981794e-15 4.46419493e-15 1.56322412e-15\n",
      " 3.27025580e-15 3.23793501e-15 3.43169868e-15 2.21951539e-15\n",
      " 1.84686106e-15 2.03845654e-15 2.40072638e-15 4.00113482e-15\n",
      " 3.13958581e-15 3.54952029e-15 5.91285759e-15 3.05732547e-15\n",
      " 1.51544142e-15 2.98469336e-15 4.88785537e-15 6.74441180e-15\n",
      " 5.05217415e-15 4.30785583e-15 3.56170342e-15 1.61641532e-15\n",
      " 1.83764762e-15 3.22412236e-15 5.85552949e-15 1.21089891e-14\n",
      " 6.17110855e-15 4.65529421e-15 1.32156517e-15 4.16868712e-15\n",
      " 4.12470557e-15 3.93470846e-15 6.76631772e-15 2.62561246e-15\n",
      " 1.49897504e-15 4.76129942e-15 4.50142205e-15 6.54606169e-15\n",
      " 4.95176126e-15 1.06069054e-15 2.04467152e-15 9.23210231e-16\n",
      " 2.62466900e-15 2.81819559e-15 5.61409462e-15 3.00982874e-15\n",
      " 1.59065437e-15 3.42820910e-15 1.75181999e-15 1.77125333e-15\n",
      " 3.63159511e-15 1.46048476e-15 1.07408114e-15 1.18812002e-15\n",
      " 4.28734738e-15 4.92679406e-15 4.30656098e-15 1.93371270e-15\n",
      " 8.42343930e-15 2.44924605e-15 1.80178128e-15 2.60107951e-15\n",
      " 3.84022988e-15 1.36887116e-15 7.16578012e-15 5.34778129e-15\n",
      " 1.52181352e-15 7.39402529e-15 4.44045632e-15 6.82150717e-15\n",
      " 2.95136641e-15 1.06136753e-15 3.78583546e-15 5.28474391e-15\n",
      " 4.38980867e-15 1.13646876e-15 1.61449357e-15 4.31070240e-15\n",
      " 2.90631926e-15 1.13027126e-14 2.63353459e-15 3.90059198e-15\n",
      " 1.66147850e-14 1.37982618e-14 6.61118734e-15 3.00285997e-15\n",
      " 8.33862049e-15 6.11283211e-15 2.79613632e-15 3.76555148e-15\n",
      " 4.65743571e-15 4.15408755e-15 1.05384435e-14 2.06730111e-15\n",
      " 4.56452064e-15 5.13308341e-15 7.89812127e-15 6.44694750e-15\n",
      " 4.78411270e-15 8.98286203e-16 7.02739441e-15 1.89647142e-14\n",
      " 2.21072008e-14 1.99307173e-14 1.40840933e-14 1.23662832e-14\n",
      " 2.29788117e-14 3.98118255e-15 4.88380062e-15 4.61667649e-15\n",
      " 2.97163224e-15 8.53568435e-15 2.71065416e-15 1.49437840e-14\n",
      " 2.88000202e-14 2.52199285e-15 3.20300858e-14 2.21758687e-14\n",
      " 7.95095385e-15 1.61409801e-14 2.95174490e-14 1.19144791e-14\n",
      " 3.94740531e-14 2.11891665e-14 9.41844600e-15 1.84062830e-14\n",
      " 1.43646337e-14 1.22061398e-14 6.79920121e-15 1.54665436e-15\n",
      " 9.44013770e-15 3.74039143e-15 7.76542821e-15 4.33960783e-15\n",
      " 1.80842526e-14 1.06369153e-14 6.59596733e-15 6.17287902e-15\n",
      " 4.56215330e-15 8.30565176e-15 1.15633706e-14 3.15655216e-14\n",
      " 1.05080756e-14 1.78192123e-14 1.16966894e-14 1.18200646e-14\n",
      " 1.03135989e-14 1.18307322e-14 5.03184850e-15 6.21459337e-15\n",
      " 9.13908105e-15 2.73394976e-15 1.08066475e-14 1.33554123e-14\n",
      " 1.73437885e-14 8.45233831e-15 4.55171007e-15 6.14404857e-15\n",
      " 3.09381471e-15 9.41556304e-15 1.66507275e-14 4.50109216e-15\n",
      " 3.31720395e-15 9.07963152e-15 1.02363378e-14 2.51543712e-15\n",
      " 1.35181004e-14 1.98579044e-15 7.21340490e-15 5.53778412e-15\n",
      " 1.93127126e-15 1.22968322e-14 1.18113229e-14 4.55051605e-14\n",
      " 3.17528534e-14 3.93227260e-15 1.08695788e-15 6.70148960e-16\n",
      " 6.14262539e-16 4.57699401e-16 3.14725304e-16 3.35424320e-16\n",
      " 4.91710024e-16 4.93285529e-16 8.85449758e-16 3.74413020e-16\n",
      " 6.09111988e-16 4.85190135e-16 5.58132876e-16 5.63248051e-16\n",
      " 5.29871817e-16 4.18521671e-16 2.72308078e-16 1.85858960e-16\n",
      " 1.20754851e-16 3.88838162e-17 5.38047614e-18 2.57313061e-18\n",
      " 1.27785817e-18]\n",
      "(313,)\n"
     ]
    }
   ],
   "source": [
    "TimeFrequencyArray = np.concatenate((TimeArray,FrequencyArray))\n",
    "print(TimeFrequencyArray)\n",
    "print(TimeFrequencyArray.shape)"
   ]
  }
 ],
 "metadata": {
  "kernelspec": {
   "display_name": "py36_2",
   "language": "python",
   "name": "py36_2"
  },
  "language_info": {
   "codemirror_mode": {
    "name": "ipython",
    "version": 3
   },
   "file_extension": ".py",
   "mimetype": "text/x-python",
   "name": "python",
   "nbconvert_exporter": "python",
   "pygments_lexer": "ipython3",
   "version": "3.6.10"
  }
 },
 "nbformat": 4,
 "nbformat_minor": 2
}
