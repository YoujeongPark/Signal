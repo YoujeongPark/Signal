{
 "cells": [
  {
   "cell_type": "code",
   "execution_count": 1,
   "metadata": {},
   "outputs": [],
   "source": [
    "import pandas as pd\n",
    "import numpy as np\n",
    "import os\n",
    "import matplotlib.pyplot as plt\n",
    "from random import *"
   ]
  },
  {
   "cell_type": "code",
   "execution_count": 2,
   "metadata": {},
   "outputs": [],
   "source": [
    "is_local = False\n",
    "if (is_local):\n",
    "        print(\"fail\")\n",
    "else:\n",
    "        PATH = \"./input/earthquake_data/\""
   ]
  },
  {
   "cell_type": "code",
   "execution_count": 3,
   "metadata": {},
   "outputs": [
    {
     "data": {
      "text/plain": [
       "'파일 갯수는 2 입니다 '"
      ]
     },
     "execution_count": 3,
     "metadata": {},
     "output_type": "execute_result"
    }
   ],
   "source": [
    "file_len = len(os.listdir(PATH))\n",
    "f\"파일 갯수는 {file_len!r} 입니다 \""
   ]
  },
  {
   "cell_type": "code",
   "execution_count": 4,
   "metadata": {},
   "outputs": [
    {
     "data": {
      "text/plain": [
       "['3333940_0.dat', '3334089_0.dat']"
      ]
     },
     "execution_count": 4,
     "metadata": {},
     "output_type": "execute_result"
    }
   ],
   "source": [
    "data_list = os.listdir(PATH)\n",
    "data_list"
   ]
  },
  {
   "cell_type": "code",
   "execution_count": 5,
   "metadata": {},
   "outputs": [],
   "source": [
    "path = PATH + data_list[1] \n",
    "path\n",
    "data_df = pd.read_csv(path, names=['time', '_x', '_y', '_z'],header=None, error_bad_lines=False )"
   ]
  },
  {
   "cell_type": "code",
   "execution_count": 10,
   "metadata": {
    "scrolled": true
   },
   "outputs": [
    {
     "data": {
      "text/html": [
       "<div>\n",
       "<style scoped>\n",
       "    .dataframe tbody tr th:only-of-type {\n",
       "        vertical-align: middle;\n",
       "    }\n",
       "\n",
       "    .dataframe tbody tr th {\n",
       "        vertical-align: top;\n",
       "    }\n",
       "\n",
       "    .dataframe thead th {\n",
       "        text-align: right;\n",
       "    }\n",
       "</style>\n",
       "<table border=\"1\" class=\"dataframe\">\n",
       "  <thead>\n",
       "    <tr style=\"text-align: right;\">\n",
       "      <th></th>\n",
       "      <th>_x</th>\n",
       "      <th>_y</th>\n",
       "      <th>_z</th>\n",
       "    </tr>\n",
       "  </thead>\n",
       "  <tbody>\n",
       "    <tr>\n",
       "      <th>0</th>\n",
       "      <td>3.371620e-08</td>\n",
       "      <td>-7.718999e-08</td>\n",
       "      <td>3.106973e-09</td>\n",
       "    </tr>\n",
       "    <tr>\n",
       "      <th>1</th>\n",
       "      <td>3.202158e-08</td>\n",
       "      <td>-6.751933e-08</td>\n",
       "      <td>2.412234e-08</td>\n",
       "    </tr>\n",
       "    <tr>\n",
       "      <th>2</th>\n",
       "      <td>5.391698e-08</td>\n",
       "      <td>-4.778630e-08</td>\n",
       "      <td>2.974502e-08</td>\n",
       "    </tr>\n",
       "    <tr>\n",
       "      <th>3</th>\n",
       "      <td>4.776981e-08</td>\n",
       "      <td>-6.607367e-08</td>\n",
       "      <td>2.880523e-08</td>\n",
       "    </tr>\n",
       "    <tr>\n",
       "      <th>4</th>\n",
       "      <td>4.532062e-08</td>\n",
       "      <td>-5.082458e-08</td>\n",
       "      <td>3.259496e-08</td>\n",
       "    </tr>\n",
       "  </tbody>\n",
       "</table>\n",
       "</div>"
      ],
      "text/plain": [
       "             _x            _y            _z\n",
       "0  3.371620e-08 -7.718999e-08  3.106973e-09\n",
       "1  3.202158e-08 -6.751933e-08  2.412234e-08\n",
       "2  5.391698e-08 -4.778630e-08  2.974502e-08\n",
       "3  4.776981e-08 -6.607367e-08  2.880523e-08\n",
       "4  4.532062e-08 -5.082458e-08  3.259496e-08"
      ]
     },
     "execution_count": 10,
     "metadata": {},
     "output_type": "execute_result"
    }
   ],
   "source": [
    "signals = data_df.copy()\n",
    "signals = signals.drop('time',axis=1)\n",
    "signals.head(5)"
   ]
  },
  {
   "cell_type": "code",
   "execution_count": 11,
   "metadata": {},
   "outputs": [
    {
     "data": {
      "text/plain": [
       "(16138, 3)"
      ]
     },
     "execution_count": 11,
     "metadata": {},
     "output_type": "execute_result"
    }
   ],
   "source": [
    "signals.shape"
   ]
  },
  {
   "cell_type": "code",
   "execution_count": 12,
   "metadata": {},
   "outputs": [],
   "source": [
    "from scipy import signal\n",
    "from scipy.fft import fftshift\n",
    "import matplotlib.pyplot as plt"
   ]
  },
  {
   "cell_type": "code",
   "execution_count": 13,
   "metadata": {},
   "outputs": [],
   "source": [
    "fs = 200\n",
    "x =  signals['_x'][0:7200] * random() * pow(10,6)\n",
    "nperseg = 50\n",
    "noverlap = 25\n",
    "mode = complex"
   ]
  },
  {
   "cell_type": "code",
   "execution_count": 15,
   "metadata": {},
   "outputs": [],
   "source": [
    "f, t, Sxx = signal.spectrogram(x, fs, \n",
    "                               nperseg = 256,\n",
    "                              noverlap = 25)\n",
    "#f, t, Sxx = signal.spectrogram(x, fs)"
   ]
  },
  {
   "cell_type": "code",
   "execution_count": 16,
   "metadata": {},
   "outputs": [
    {
     "name": "stdout",
     "output_type": "stream",
     "text": [
      "(129, 31)\n",
      "[[1.79570798e-05 6.67820902e-05 3.61191087e-06 ... 5.33946921e-05\n",
      "  8.54762935e-06 2.22932961e-05]\n",
      " [2.97945473e-03 3.36055977e-03 2.49189973e-03 ... 1.99504445e-04\n",
      "  3.94432886e-04 4.06110025e-03]\n",
      " [1.69486956e-03 7.72183244e-04 1.01121960e-03 ... 3.10392833e-03\n",
      "  2.16730723e-03 1.38226418e-03]\n",
      " ...\n",
      " [2.85905412e-10 2.57220745e-12 2.07024522e-12 ... 2.12073816e-12\n",
      "  6.88261289e-12 1.33465185e-12]\n",
      " [5.29453409e-10 2.09234930e-12 3.58342925e-13 ... 3.27353977e-12\n",
      "  1.05590083e-12 3.63188741e-12]\n",
      " [7.76505879e-10 4.43340457e-12 8.98990189e-16 ... 1.34753065e-12\n",
      "  6.87717797e-13 1.42148094e-12]]\n"
     ]
    }
   ],
   "source": [
    "print(Sxx.shape)\n",
    "print(Sxx)"
   ]
  },
  {
   "cell_type": "code",
   "execution_count": 17,
   "metadata": {},
   "outputs": [
    {
     "data": {
      "text/plain": [
       "<function matplotlib.pyplot.show(*args, **kw)>"
      ]
     },
     "execution_count": 17,
     "metadata": {},
     "output_type": "execute_result"
    },
    {
     "data": {
      "image/png": "[encoded data removed]",
      "text/plain": [
       "<Figure size 432x288 with 1 Axes>"
      ]
     },
     "metadata": {
      "needs_background": "light"
     },
     "output_type": "display_data"
    }
   ],
   "source": [
    "plt.pcolormesh(t, f, Sxx)\n",
    "plt.show"
   ]
  },
  {
   "cell_type": "code",
   "execution_count": 13,
   "metadata": {},
   "outputs": [
    {
     "data": {
      "text/plain": [
       "(129, 31)"
      ]
     },
     "execution_count": 13,
     "metadata": {},
     "output_type": "execute_result"
    }
   ],
   "source": [
    "Sxx.shape"
   ]
  },
  {
   "cell_type": "code",
   "execution_count": 21,
   "metadata": {
    "scrolled": false
   },
   "outputs": [
    {
     "data": {
      "image/png": "[encoded data removed]",
      "text/plain": [
       "<Figure size 432x288 with 1 Axes>"
      ]
     },
     "metadata": {
      "needs_background": "light"
     },
     "output_type": "display_data"
    }
   ],
   "source": [
    "f, t, Zxx = signal.stft(x, fs, nperseg = 50,\n",
    "                              noverlap = 25)  \n",
    "plt.pcolormesh(t, f, np.abs(Zxx))  \n",
    "plt.title('STFT Magnitude')  \n",
    "plt.ylabel('Frequency \\[Hz\\]')  \n",
    "plt.xlabel('Time \\[sec\\]')  \n",
    "plt.show()"
   ]
  },
  {
   "cell_type": "code",
   "execution_count": 15,
   "metadata": {},
   "outputs": [
    {
     "data": {
      "text/plain": [
       "array([9.56356799e-19, 1.50623800e-17, 2.66327997e-17, 1.67646508e-17,\n",
       "       7.89434169e-18, 5.47027807e-17, 1.40316988e-17, 1.47769716e-17,\n",
       "       3.21158295e-17, 1.03061638e-17, 1.08551993e-18, 2.35850720e-18,\n",
       "       3.51963394e-17, 4.92905261e-17, 1.92958094e-17, 1.53113087e-17,\n",
       "       3.23849865e-17, 5.27912492e-18, 2.16782594e-17, 2.55080197e-17,\n",
       "       2.12253874e-18, 2.21337885e-17, 8.41417059e-18, 1.07780973e-17,\n",
       "       1.59035885e-18, 4.42819151e-18, 1.49247630e-18, 2.29781739e-17,\n",
       "       2.17422017e-18, 1.15340395e-17, 8.67173914e-18])"
      ]
     },
     "execution_count": 15,
     "metadata": {},
     "output_type": "execute_result"
    }
   ],
   "source": [
    "Sxx[32]"
   ]
  },
  {
   "cell_type": "markdown",
   "metadata": {},
   "source": [
    "## 히스토그램 기반 주파수 특징 추출"
   ]
  },
  {
   "cell_type": "code",
   "execution_count": 16,
   "metadata": {},
   "outputs": [
    {
     "name": "stdout",
     "output_type": "stream",
     "text": [
      "(129,)\n"
     ]
    }
   ],
   "source": [
    "FrequencyArray = Sxx[:,0]\n",
    "for i in range(1, Sxx.shape[1]):\n",
    "    FrequencyArray =  Sxx[:,i] + FrequencyArray\n",
    "\n",
    "print(FrequencyArray.shape)"
   ]
  },
  {
   "cell_type": "code",
   "execution_count": 17,
   "metadata": {},
   "outputs": [
    {
     "name": "stdout",
     "output_type": "stream",
     "text": [
      "(31,)\n"
     ]
    }
   ],
   "source": [
    "TimeArray = Sxx[0]\n",
    "for i in range(1, Sxx.shape[0]):\n",
    "    TimeArray += Sxx[i]  \n",
    "print(TimeArray.shape)"
   ]
  },
  {
   "cell_type": "code",
   "execution_count": 18,
   "metadata": {},
   "outputs": [
    {
     "data": {
      "text/plain": [
       "(array([123.,   3.,   0.,   1.,   0.,   1.,   0.,   0.,   0.,   1.]),\n",
       " array([4.73849785e-21, 5.84586646e-14, 1.16917324e-13, 1.75375984e-13,\n",
       "        2.33834644e-13, 2.92293304e-13, 3.50751964e-13, 4.09210623e-13,\n",
       "        4.67669283e-13, 5.26127943e-13, 5.84586603e-13]),\n",
       " <a list of 10 Patch objects>)"
      ]
     },
     "execution_count": 18,
     "metadata": {},
     "output_type": "execute_result"
    },
    {
     "data": {
      "image/png": "[encoded data removed]",
      "text/plain": [
       "<Figure size 432x288 with 1 Axes>"
      ]
     },
     "metadata": {
      "needs_background": "light"
     },
     "output_type": "display_data"
    }
   ],
   "source": [
    "plt.hist(FrequencyArray)"
   ]
  },
  {
   "cell_type": "code",
   "execution_count": 19,
   "metadata": {},
   "outputs": [
    {
     "name": "stdout",
     "output_type": "stream",
     "text": [
      "129\n",
      "129\n"
     ]
    }
   ],
   "source": [
    "print(len(f))\n",
    "print(len(FrequencyArray))"
   ]
  },
  {
   "cell_type": "code",
   "execution_count": 20,
   "metadata": {},
   "outputs": [
    {
     "name": "stdout",
     "output_type": "stream",
     "text": [
      "[5.96850581e-14 5.36247086e-14 4.65181292e-14 2.52508516e-14\n",
      " 4.07367194e-14 1.74833079e-14 4.48123962e-14 4.92745078e-14\n",
      " 6.17578589e-14 1.47920233e-14 8.92693854e-15 6.41255825e-15\n",
      " 3.70126434e-14 3.58470857e-14 2.90216837e-14 8.88469150e-14\n",
      " 2.61686546e-14 2.21240429e-14 4.09499811e-14 4.52367198e-14\n",
      " 2.79349011e-14 6.10042543e-14 4.95028856e-14 9.26619792e-14\n",
      " 9.27497413e-14 1.45821582e-13 6.37101833e-14 1.11009744e-13\n",
      " 7.01585830e-14 6.94838260e-14 9.47287663e-14 8.48194722e-15\n",
      " 5.84586603e-13 3.23347100e-13 2.12317838e-13 1.00293672e-13\n",
      " 6.50084758e-14 9.38680599e-14 3.19282987e-14 4.57167535e-14\n",
      " 1.93561055e-14 1.54077200e-14 1.50470234e-14 1.53592224e-14\n",
      " 9.48138151e-15 8.47332592e-15 7.08771206e-15 7.37810990e-15\n",
      " 4.45840494e-15 5.49299346e-15 2.63186897e-15 3.40336813e-15\n",
      " 2.39861495e-15 1.89498054e-15 1.14149154e-15 8.39879342e-16\n",
      " 1.18990649e-15 8.15724313e-16 7.51415900e-16 7.05877314e-16\n",
      " 4.53481400e-16 8.65201578e-16 3.60894847e-16 4.96950169e-16\n",
      " 3.29027700e-16 3.03804435e-16 2.38881513e-16 3.39208564e-16\n",
      " 2.60392889e-16 3.53396221e-16 1.85132956e-16 2.93095096e-16\n",
      " 2.63382640e-16 4.86186962e-16 3.45970506e-16 4.96847953e-16\n",
      " 2.25186147e-16 2.28718515e-16 2.41972372e-16 4.00746502e-16\n",
      " 4.11316864e-16 3.46623319e-16 3.03773432e-16 4.03087863e-16\n",
      " 4.81823768e-16 4.97003227e-16 6.53734660e-16 4.90936690e-16\n",
      " 1.17308571e-15 4.11051079e-16 3.84279414e-16 4.97173491e-16\n",
      " 3.87113941e-16 4.32464640e-16 8.30328638e-16 7.32421420e-16\n",
      " 7.69250672e-16 5.32166400e-16 8.57146161e-16 5.65001851e-16\n",
      " 9.73832162e-16 6.34708675e-16 1.29097468e-15 1.18480411e-15\n",
      " 6.44404020e-16 8.37972579e-16 5.14178681e-16 1.02861384e-15\n",
      " 7.11729562e-16 6.61257832e-16 7.40765892e-16 7.84471342e-16\n",
      " 1.33346695e-15 6.37584421e-16 5.72556536e-16 5.58027161e-16\n",
      " 5.81542368e-16 6.47203502e-16 7.79407681e-16 5.14283353e-16\n",
      " 5.33518430e-16 8.03533082e-16 2.02744439e-15 5.28571811e-16\n",
      " 7.00633662e-16 4.38144485e-16 4.83650362e-16 5.38712914e-16\n",
      " 4.88881078e-16 5.20234395e-16 5.39222435e-16 5.04120455e-16\n",
      " 3.32898099e-16 3.30757886e-16 3.14873789e-16 3.63382776e-16\n",
      " 1.69199910e-16 1.91307560e-16 1.23568478e-16 1.30188041e-16\n",
      " 1.02109604e-16 9.69414084e-17 8.54696792e-17 3.54088143e-17\n",
      " 1.86537347e-17 9.46683570e-18 5.75977881e-18 4.11156030e-18\n",
      " 1.88940460e-18 1.39070521e-18 5.66141276e-19 1.94330638e-19\n",
      " 2.86221476e-19 1.57623026e-19 2.21449610e-20 8.45378332e-21\n",
      " 5.06716450e-21 4.73849785e-21 7.66057680e-21 1.00852238e-20]\n",
      "(160,)\n"
     ]
    }
   ],
   "source": [
    "TimeFrequencyArray = np.concatenate((TimeArray,FrequencyArray))\n",
    "print(TimeFrequencyArray)\n",
    "print(TimeFrequencyArray.shape)"
   ]
  },
  {
   "cell_type": "code",
   "execution_count": null,
   "metadata": {},
   "outputs": [],
   "source": []
  },
  {
   "cell_type": "code",
   "execution_count": null,
   "metadata": {},
   "outputs": [],
   "source": []
  }
 ],
 "metadata": {
  "kernelspec": {
   "display_name": "py36_2",
   "language": "python",
   "name": "py36_2"
  },
  "language_info": {
   "codemirror_mode": {
    "name": "ipython",
    "version": 3
   },
   "file_extension": ".py",
   "mimetype": "text/x-python",
   "name": "python",
   "nbconvert_exporter": "python",
   "pygments_lexer": "ipython3",
   "version": "3.6.10"
  }
 },
 "nbformat": 4,
 "nbformat_minor": 2
}
